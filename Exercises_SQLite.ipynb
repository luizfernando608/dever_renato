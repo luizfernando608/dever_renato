{
 "cells": [
  {
   "cell_type": "markdown",
   "metadata": {},
   "source": [
    "## Introduction to Databases\n",
    "\n",
    "### SQLite exercises (based on [this](https://www.w3resource.com/sqlite-exercises/) website)"
   ]
  },
  {
   "cell_type": "code",
   "execution_count": 5,
   "metadata": {},
   "outputs": [],
   "source": [
    "import os\n",
    "import sys\n",
    "import time\n",
    "import datetime\n",
    "import numpy as np\n",
    "import pandas as pd\n",
    "\n",
    "import sqlite3\n"
   ]
  },
  {
   "cell_type": "markdown",
   "metadata": {},
   "source": [
    "![Db Schema](../SampleDBs/database-model.gif)"
   ]
  },
  {
   "cell_type": "code",
   "execution_count": 34,
   "metadata": {},
   "outputs": [
    {
     "output_type": "execute_result",
     "data": {
      "text/plain": [
       "          name\n",
       "0    countries\n",
       "1      regions\n",
       "2    locations\n",
       "3  departments\n",
       "4         jobs"
      ],
      "text/html": "<div>\n<style scoped>\n    .dataframe tbody tr th:only-of-type {\n        vertical-align: middle;\n    }\n\n    .dataframe tbody tr th {\n        vertical-align: top;\n    }\n\n    .dataframe thead th {\n        text-align: right;\n    }\n</style>\n<table border=\"1\" class=\"dataframe\">\n  <thead>\n    <tr style=\"text-align: right;\">\n      <th></th>\n      <th>name</th>\n    </tr>\n  </thead>\n  <tbody>\n    <tr>\n      <th>0</th>\n      <td>countries</td>\n    </tr>\n    <tr>\n      <th>1</th>\n      <td>regions</td>\n    </tr>\n    <tr>\n      <th>2</th>\n      <td>locations</td>\n    </tr>\n    <tr>\n      <th>3</th>\n      <td>departments</td>\n    </tr>\n    <tr>\n      <th>4</th>\n      <td>jobs</td>\n    </tr>\n  </tbody>\n</table>\n</div>"
     },
     "metadata": {},
     "execution_count": 34
    }
   ],
   "source": [
    "conn = sqlite3.connect(os.path.join('hr.sqlite'))\n",
    "cur = conn.cursor()\n",
    "df = pd.read_sql(\"SELECT name FROM sqlite_master WHERE type='table'\", conn)\n",
    "df.head()"
   ]
  },
  {
   "cell_type": "markdown",
   "metadata": {},
   "source": [
    "+ Write a query to display the names (first_name, last_name) using alias name \"First Name\", \"Last Name\" on the table \"employees\"  "
   ]
  },
  {
   "cell_type": "code",
   "execution_count": 5,
   "metadata": {},
   "outputs": [
    {
     "output_type": "stream",
     "name": "stdout",
     "text": [
      "[('Steven', 'King'), ('Neena', 'Kochhar'), ('Lex', 'De Haan'), ('Alexander', 'Hunold'), ('Bruce', 'Ernst'), ('David', 'Austin'), ('Valli', 'Pataballa'), ('Diana', 'Lorentz'), ('Nancy', 'Greenberg'), ('Daniel', 'Faviet'), ('John', 'Chen'), ('Ismael', 'Sciarra'), ('Jose Manuel', 'Urman'), ('Luis', 'Popp'), ('Den', 'Raphaely'), ('Alexander', 'Khoo'), ('Shelli', 'Baida'), ('Sigal', 'Tobias'), ('Guy', 'Himuro'), ('Karen', 'Colmenares'), ('Matthew', 'Weiss'), ('Adam', 'Fripp'), ('Payam', 'Kaufling'), ('Shanta', 'Vollman'), ('Kevin', 'Mourgos'), ('Julia', 'Nayer'), ('Irene', 'Mikkilineni'), ('James', 'Landry'), ('Steven', 'Markle'), ('Laura', 'Bissot'), ('Mozhe', 'Atkinson'), ('James', 'Marlow'), ('TJ', 'Olson'), ('Jason', 'Mallin'), ('Michael', 'Rogers'), ('Ki', 'Gee'), ('Hazel', 'Philtanker'), ('Renske', 'Ladwig'), ('Stephen', 'Stiles'), ('John', 'Seo'), ('Joshua', 'Patel'), ('Trenna', 'Rajs'), ('Curtis', 'Davies'), ('Randall', 'Matos'), ('Peter', 'Vargas'), ('John', 'Russell'), ('Karen', 'Partners'), ('Alberto', 'Errazuriz'), ('Gerald', 'Cambrault'), ('Eleni', 'Zlotkey'), ('Peter', 'Tucker'), ('David', 'Bernstein'), ('Peter', 'Hall'), ('Christopher', 'Olsen'), ('Nanette', 'Cambrault'), ('Oliver', 'Tuvault'), ('Janette', 'King'), ('Patrick', 'Sully'), ('Allan', 'McEwen'), ('Lindsey', 'Smith'), ('Louise', 'Doran'), ('Sarath', 'Sewall'), ('Clara', 'Vishney'), ('Danielle', 'Greene'), ('Mattea', 'Marvins'), ('David', 'Lee'), ('Sundar', 'Ande'), ('Amit', 'Banda'), ('Lisa', 'Ozer'), ('Harrison', 'Bloom'), ('Tayler', 'Fox'), ('William', 'Smith'), ('Elizabeth', 'Bates'), ('Sundita', 'Kumar'), ('Ellen', 'Abel'), ('Alyssa', 'Hutton'), ('Jonathon', 'Taylor'), ('Jack', 'Livingston'), ('Kimberely', 'Grant'), ('Charles', 'Johnson'), ('Winston', 'Taylor'), ('Jean', 'Fleaur'), ('Martha', 'Sullivan'), ('Girard', 'Geoni'), ('Nandita', 'Sarchand'), ('Alexis', 'Bull'), ('Julia', 'Dellinger'), ('Anthony', 'Cabrio'), ('Kelly', 'Chung'), ('Jennifer', 'Dilly'), ('Timothy', 'Gates'), ('Randall', 'Perkins'), ('Sarah', 'Bell'), ('Britney', 'Everett'), ('Samuel', 'McCain'), ('Vance', 'Jones'), ('Alana', 'Walsh'), ('Kevin', 'Feeney'), ('Donald', 'OConnell'), ('Douglas', 'Grant'), ('Jennifer', 'Whalen'), ('Michael', 'Hartstein'), ('Pat', 'Fay'), ('Susan', 'Mavris'), ('Hermann', 'Baer'), ('Shelley', 'Higgins'), ('William', 'Gietz')]\n"
     ]
    }
   ],
   "source": [
    "cur.execute('Select first_name,last_name from employees')\n",
    "print(cur.fetchall())"
   ]
  },
  {
   "cell_type": "markdown",
   "metadata": {},
   "source": [
    "+ Write a query to get unique department ID from employee table on the table \"employees\"  "
   ]
  },
  {
   "cell_type": "code",
   "execution_count": 6,
   "metadata": {},
   "outputs": [
    {
     "output_type": "stream",
     "name": "stdout",
     "text": [
      "[(100,), (101,), (102,), (103,), (104,), (105,), (106,), (107,), (108,), (109,), (110,), (111,), (112,), (113,), (114,), (115,), (116,), (117,), (118,), (119,), (120,), (121,), (122,), (123,), (124,), (125,), (126,), (127,), (128,), (129,), (130,), (131,), (132,), (133,), (134,), (135,), (136,), (137,), (138,), (139,), (140,), (141,), (142,), (143,), (144,), (145,), (146,), (147,), (148,), (149,), (150,), (151,), (152,), (153,), (154,), (155,), (156,), (157,), (158,), (159,), (160,), (161,), (162,), (163,), (164,), (165,), (166,), (167,), (168,), (169,), (170,), (171,), (172,), (173,), (174,), (175,), (176,), (177,), (178,), (179,), (180,), (181,), (182,), (183,), (184,), (185,), (186,), (187,), (188,), (189,), (190,), (191,), (192,), (193,), (194,), (195,), (196,), (197,), (198,), (199,), (200,), (201,), (202,), (203,), (204,), (205,), (206,)]\n"
     ]
    }
   ],
   "source": [
    "cur.execute('select employee_id from employees')\n",
    "print(cur.fetchall())"
   ]
  },
  {
   "cell_type": "markdown",
   "metadata": {},
   "source": [
    "+ Write a query to get all employee details from the employee table order by first name, descending on the table \"employees\"  "
   ]
  },
  {
   "cell_type": "code",
   "execution_count": 7,
   "metadata": {},
   "outputs": [
    {
     "output_type": "stream",
     "name": "stdout",
     "text": [
      "[(180, 'Winston', 'Taylor', 'WTAYLOR', '650.507.9876', '1987-09-05', 'SH_CLERK', 3200, 0, 120, 50, None), (171, 'William', 'Smith', 'WSMITH', '011.44.1343.629268', '1987-08-27', 'SA_REP', 7400, 0.15, 148, 80, None), (206, 'William', 'Gietz', 'WGIETZ', '515.123.8181', '1987-10-01', 'AC_ACCOUNT', 8300, 1, 205, 110, None), (195, 'Vance', 'Jones', 'VJONES', '650.501.4876', '1987-09-20', 'SH_CLERK', 2800, 0, 123, 50, None), (106, 'Valli', 'Pataballa', 'VPATABAL', '590.423.4560', '1987-06-23', 'IT_PROG', 4800, 0, 103, 60, None), (141, 'Trenna', 'Rajs', 'TRAJS', '650.121.8009', '1987-07-28', 'ST_CLERK', 3500, 0, 124, 50, None), (190, 'Timothy', 'Gates', 'TGATES', '650.505.3876', '1987-09-15', 'SH_CLERK', 2900, 0, 122, 50, None), (170, 'Tayler', 'Fox', 'TFOX', '011.44.1343.729268', '1987-08-26', 'SA_REP', 9600, 0.2, 148, 80, None), (132, 'TJ', 'Olson', 'TJOLSON', '650.124.8234', '1987-07-19', 'ST_CLERK', 2100, 0, 121, 50, None), (203, 'Susan', 'Mavris', 'SMAVRIS', '515.123.7777', '1987-09-28', 'HR_REP', 6500, 0, 101, 40, None), (173, 'Sundita', 'Kumar', 'SKUMAR', '011.44.1343.329268', '1987-08-29', 'SA_REP', 6100, 0.1, 148, 80, None), (166, 'Sundar', 'Ande', 'SANDE', '011.44.1346.629268', '1987-08-22', 'SA_REP', 6400, 0.1, 147, 80, None), (100, 'Steven', 'King', 'SKING', '515.123.4567', '1987-06-17', 'AD_PRES', 24000, 0, 0, 90, None), (128, 'Steven', 'Markle', 'SMARKLE', '650.124.1434', '1987-07-15', 'ST_CLERK', 2200, 0, 120, 50, None), (138, 'Stephen', 'Stiles', 'SSTILES', '650.121.2034', '1987-07-25', 'ST_CLERK', 3200, 0, 123, 50, None), (117, 'Sigal', 'Tobias', 'STOBIAS', '515.127.4564', '1987-07-04', 'PU_CLERK', 2800, 0, 114, 30, None), (116, 'Shelli', 'Baida', 'SBAIDA', '515.127.4563', '1987-07-03', 'PU_CLERK', 2900, 0, 114, 30, None), (205, 'Shelley', 'Higgins', 'SHIGGINS', '515.123.8080', '1987-09-30', 'AC_MGR', 12000, 1, 101, 110, None), (123, 'Shanta', 'Vollman', 'SVOLLMAN', '650.123.4234', '1987-07-10', 'ST_MAN', 6500, 0, 100, 50, None), (161, 'Sarath', 'Sewall', 'SSEWALL', '011.44.1345.529268', '1987-08-17', 'SA_REP', 7000, 0.25, 146, 80, None), (192, 'Sarah', 'Bell', 'SBELL', '650.501.1876', '1987-09-17', 'SH_CLERK', 4000, 0, 123, 50, None), (194, 'Samuel', 'McCain', 'SMCCAIN', '650.501.3876', '1987-09-19', 'SH_CLERK', 3200, 0, 123, 50, None), (137, 'Renske', 'Ladwig', 'RLADWIG', '650.121.1234', '1987-07-24', 'ST_CLERK', 3600, 0, 123, 50, None), (143, 'Randall', 'Matos', 'RMATOS', '650.121.2874', '1987-07-30', 'ST_CLERK', 2600, 0, 124, 50, None), (191, 'Randall', 'Perkins', 'RPERKINS', '650.505.4876', '1987-09-16', 'SH_CLERK', 2500, 0, 122, 50, None), (144, 'Peter', 'Vargas', 'PVARGAS', '650.121.2004', '1987-07-31', 'ST_CLERK', 2500, 0, 124, 50, None), (150, 'Peter', 'Tucker', 'PTUCKER', '011.44.1344.129268', '1987-08-06', 'SA_REP', 10000, 0.3, 145, 80, None), (152, 'Peter', 'Hall', 'PHALL', '011.44.1344.478968', '1987-08-08', 'SA_REP', 9000, 0.25, 145, 80, None), (122, 'Payam', 'Kaufling', 'PKAUFLIN', '650.123.3234', '1987-07-09', 'ST_MAN', 7900, 0, 100, 50, None), (157, 'Patrick', 'Sully', 'PSULLY', '011.44.1345.929268', '1987-08-13', 'SA_REP', 9500, 0.35, 146, 80, None), (202, 'Pat', 'Fay', 'PFAY', '603.123.6666', '1987-09-27', 'MK_REP', 6000, 0, 201, 20, None), (155, 'Oliver', 'Tuvault', 'OTUVAULT', '011.44.1344.486508', '1987-08-11', 'SA_REP', 7000, 0.15, 145, 80, None), (101, 'Neena', 'Kochhar', 'NKOCHHAR', '515.123.4568', '1987-06-18', 'AD_VP', 17000, 0, 100, 90, None), (154, 'Nanette', 'Cambrault', 'NCAMBRAU', '011.44.1344.987668', '1987-08-10', 'SA_REP', 7500, 0.2, 145, 80, None), (184, 'Nandita', 'Sarchand', 'NSARCHAN', '650.509.1876', '1987-09-09', 'SH_CLERK', 4200, 0, 121, 50, None), (108, 'Nancy', 'Greenberg', 'NGREENBE', '515.124.4569', '1987-06-25', 'FI_MGR', 12000, 0, 101, 100, None), (130, 'Mozhe', 'Atkinson', 'MATKINSO', '650.124.6234', '1987-07-17', 'ST_CLERK', 2800, 0, 121, 50, None), (134, 'Michael', 'Rogers', 'MROGERS', '650.127.1834', '1987-07-21', 'ST_CLERK', 2900, 0, 122, 50, None), (201, 'Michael', 'Hartstein', 'MHARTSTE', '515.123.5555', '1987-09-26', 'MK_MAN', 13000, 0, 100, 20, None), (120, 'Matthew', 'Weiss', 'MWEISS', '650.123.1234', '1987-07-07', 'ST_MAN', 8000, 0, 100, 50, None), (164, 'Mattea', 'Marvins', 'MMARVINS', '011.44.1346.329268', '1987-08-20', 'SA_REP', 7200, 0.1, 147, 80, None), (182, 'Martha', 'Sullivan', 'MSULLIVA', '650.507.9878', '1987-09-07', 'SH_CLERK', 2500, 0, 120, 50, None), (113, 'Luis', 'Popp', 'LPOPP', '515.124.4567', '1987-06-30', 'FI_ACCOUNT', 6900, 0, 108, 100, None), (160, 'Louise', 'Doran', 'LDORAN', '011.44.1345.629268', '1987-08-16', 'SA_REP', 7500, 0.3, 146, 80, None), (168, 'Lisa', 'Ozer', 'LOZER', '011.44.1343.929268', '1987-08-24', 'SA_REP', 11500, 0.25, 148, 80, None), (159, 'Lindsey', 'Smith', 'LSMITH', '011.44.1345.729268', '1987-08-15', 'SA_REP', 8000, 0.3, 146, 80, None), (102, 'Lex', 'De Haan', 'LDEHAAN', '515.123.4569', '1987-06-19', 'AD_VP', 17000, 0, 100, 90, None), (129, 'Laura', 'Bissot', 'LBISSOT', '650.124.5234', '1987-07-16', 'ST_CLERK', 3300, 0, 121, 50, None), (178, 'Kimberely', 'Grant', 'KGRANT', '011.44.1644.429263', '1987-09-03', 'SA_REP', 7000, 0.15, 149, 0, None), (135, 'Ki', 'Gee', 'KGEE', '650.127.1734', '1987-07-22', 'ST_CLERK', 2400, 0, 122, 50, None), (124, 'Kevin', 'Mourgos', 'KMOURGOS', '650.123.5234', '1987-07-11', 'ST_MAN', 5800, 0, 100, 50, None), (197, 'Kevin', 'Feeney', 'KFEENEY', '650.507.9822', '1987-09-22', 'SH_CLERK', 3000, 0, 124, 50, None), (188, 'Kelly', 'Chung', 'KCHUNG', '650.505.1876', '1987-09-13', 'SH_CLERK', 3800, 0, 122, 50, None), (119, 'Karen', 'Colmenares', 'KCOLMENA', '515.127.4566', '1987-07-06', 'PU_CLERK', 2500, 0, 114, 30, None), (146, 'Karen', 'Partners', 'KPARTNER', '011.44.1344.467268', '1987-08-02', 'SA_MAN', 13500, 0.3, 100, 80, None), (125, 'Julia', 'Nayer', 'JNAYER', '650.124.1214', '1987-07-12', 'ST_CLERK', 3200, 0, 120, 50, None), (186, 'Julia', 'Dellinger', 'JDELLING', '650.509.3876', '1987-09-11', 'SH_CLERK', 3400, 0, 121, 50, None), (140, 'Joshua', 'Patel', 'JPATEL', '650.121.1834', '1987-07-27', 'ST_CLERK', 2500, 0, 123, 50, None), (112, 'Jose Manuel', 'Urman', 'JMURMAN', '515.124.4469', '1987-06-29', 'FI_ACCOUNT', 7800, 0, 108, 100, None), (176, 'Jonathon', 'Taylor', 'JTAYLOR', '011.44.1644.429265', '1987-09-01', 'SA_REP', 8600, 0.2, 149, 80, None), (110, 'John', 'Chen', 'JCHEN', '515.124.4269', '1987-06-27', 'FI_ACCOUNT', 8200, 0, 108, 100, None), (139, 'John', 'Seo', 'JSEO', '650.121.2019', '1987-07-26', 'ST_CLERK', 2700, 0, 123, 50, None), (145, 'John', 'Russell', 'JRUSSEL', '011.44.1344.429268', '1987-08-01', 'SA_MAN', 14000, 0.4, 100, 80, None), (189, 'Jennifer', 'Dilly', 'JDILLY', '650.505.2876', '1987-09-14', 'SH_CLERK', 3600, 0, 122, 50, None), (200, 'Jennifer', 'Whalen', 'JWHALEN', '515.123.4444', '1987-09-25', 'AD_ASST', 4400, 0, 101, 10, None), (181, 'Jean', 'Fleaur', 'JFLEAUR', '650.507.9877', '1987-09-06', 'SH_CLERK', 3100, 0, 120, 50, None), (133, 'Jason', 'Mallin', 'JMALLIN', '650.127.1934', '1987-07-20', 'ST_CLERK', 3300, 0, 122, 50, None), (156, 'Janette', 'King', 'JKING', '011.44.1345.429268', '1987-08-12', 'SA_REP', 10000, 0.35, 146, 80, None), (127, 'James', 'Landry', 'JLANDRY', '650.124.1334', '1987-07-14', 'ST_CLERK', 2400, 0, 120, 50, None), (131, 'James', 'Marlow', 'JAMRLOW', '650.124.7234', '1987-07-18', 'ST_CLERK', 2500, 0, 121, 50, None), (177, 'Jack', 'Livingston', 'JLIVINGS', '011.44.1644.429264', '1987-09-02', 'SA_REP', 8400, 0.2, 149, 80, None), (111, 'Ismael', 'Sciarra', 'ISCIARRA', '515.124.4369', '1987-06-28', 'FI_ACCOUNT', 7700, 0, 108, 100, None), (126, 'Irene', 'Mikkilineni', 'IMIKKILI', '650.124.1224', '1987-07-13', 'ST_CLERK', 2700, 0, 120, 50, None), (204, 'Hermann', 'Baer', 'HBAER', '515.123.8888', '1987-09-29', 'PR_REP', 10000, 0, 101, 70, None), (136, 'Hazel', 'Philtanker', 'HPHILTAN', '650.127.1634', '1987-07-23', 'ST_CLERK', 2200, 0, 122, 50, None), (169, 'Harrison', 'Bloom', 'HBLOOM', '011.44.1343.829268', '1987-08-25', 'SA_REP', 10000, 0.2, 148, 80, None), (118, 'Guy', 'Himuro', 'GHIMURO', '515.127.4565', '1987-07-05', 'PU_CLERK', 2600, 0, 114, 30, None), (183, 'Girard', 'Geoni', 'GGEONI', '650.507.9879', '1987-09-08', 'SH_CLERK', 2800, 0, 120, 50, None), (148, 'Gerald', 'Cambrault', 'GCAMBRAU', '011.44.1344.619268', '1987-08-04', 'SA_MAN', 11000, 0.3, 100, 80, None), (174, 'Ellen', 'Abel', 'EABEL', '011.44.1644.429267', '1987-08-30', 'SA_REP', 11000, 0.3, 149, 80, None), (172, 'Elizabeth', 'Bates', 'EBATES', '011.44.1343.529268', '1987-08-28', 'SA_REP', 7300, 0.15, 148, 80, None), (149, 'Eleni', 'Zlotkey', 'EZLOTKEY', '011.44.1344.429018', '1987-08-05', 'SA_MAN', 10500, 0.2, 100, 80, None), (199, 'Douglas', 'Grant', 'DGRANT', '650.507.9844', '1987-09-24', 'SH_CLERK', 2600, 0, 124, 50, None), (198, 'Donald', 'OConnell', 'DOCONNEL', '650.507.9833', '1987-09-23', 'SH_CLERK', 2600, 0, 124, 50, None), (107, 'Diana', 'Lorentz', 'DLORENTZ', '590.423.5567', '1987-06-24', 'IT_PROG', 4200, 0, 103, 60, None), (114, 'Den', 'Raphaely', 'DRAPHEAL', '515.127.4561', '1987-07-01', 'PU_MAN', 11000, 0, 100, 30, None), (105, 'David', 'Austin', 'DAUSTIN', '590.423.4569', '1987-06-22', 'IT_PROG', 4800, 0, 103, 60, None), (151, 'David', 'Bernstein', 'DBERNSTE', '011.44.1344.345268', '1987-08-07', 'SA_REP', 9500, 0.25, 145, 80, None), (165, 'David', 'Lee', 'DLEE', '011.44.1346.529268', '1987-08-21', 'SA_REP', 6800, 0.1, 147, 80, None), (163, 'Danielle', 'Greene', 'DGREENE', '011.44.1346.229268', '1987-08-19', 'SA_REP', 9500, 0.15, 147, 80, None), (109, 'Daniel', 'Faviet', 'DFAVIET', '515.124.4169', '1987-06-26', 'FI_ACCOUNT', 9000, 0, 108, 100, None), (142, 'Curtis', 'Davies', 'CDAVIES', '650.121.2994', '1987-07-29', 'ST_CLERK', 3100, 0, 124, 50, None), (162, 'Clara', 'Vishney', 'CVISHNEY', '011.44.1346.129268', '1987-08-18', 'SA_REP', 10500, 0.25, 147, 80, None), (153, 'Christopher', 'Olsen', 'COLSEN', '011.44.1344.498718', '1987-08-09', 'SA_REP', 8000, 0.2, 145, 80, None), (179, 'Charles', 'Johnson', 'CJOHNSON', '011.44.1644.429262', '1987-09-04', 'SA_REP', 6200, 0.1, 149, 80, None), (104, 'Bruce', 'Ernst', 'BERNST', '590.423.4568', '1987-06-21', 'IT_PROG', 6000, 0, 103, 60, None), (193, 'Britney', 'Everett', 'BEVERETT', '650.501.2876', '1987-09-18', 'SH_CLERK', 3900, 0, 123, 50, None), (187, 'Anthony', 'Cabrio', 'ACABRIO', '650.509.4876', '1987-09-12', 'SH_CLERK', 3000, 0, 121, 50, None), (167, 'Amit', 'Banda', 'ABANDA', '011.44.1346.729268', '1987-08-23', 'SA_REP', 6200, 0.1, 147, 80, None), (175, 'Alyssa', 'Hutton', 'AHUTTON', '011.44.1644.429266', '1987-08-31', 'SA_REP', 8800, 0.25, 149, 80, None), (158, 'Allan', 'McEwen', 'AMCEWEN', '011.44.1345.829268', '1987-08-14', 'SA_REP', 9000, 0.35, 146, 80, None), (185, 'Alexis', 'Bull', 'ABULL', '650.509.2876', '1987-09-10', 'SH_CLERK', 4100, 0, 121, 50, None), (103, 'Alexander', 'Hunold', 'AHUNOLD', '590.423.4567', '1987-06-20', 'IT_PROG', 9000, 0, 102, 60, None), (115, 'Alexander', 'Khoo', 'AKHOO', '515.127.4562', '1987-07-02', 'PU_CLERK', 3100, 0, 114, 30, None), (147, 'Alberto', 'Errazuriz', 'AERRAZUR', '011.44.1344.429278', '1987-08-03', 'SA_MAN', 12000, 0.3, 100, 80, None), (196, 'Alana', 'Walsh', 'AWALSH', '650.507.9811', '1987-09-21', 'SH_CLERK', 3100, 0, 124, 50, None), (121, 'Adam', 'Fripp', 'AFRIPP', '650.123.2234', '1987-07-08', 'ST_MAN', 8200, 0, 100, 50, None)]\n"
     ]
    }
   ],
   "source": [
    "cur.execute('select* from employees order by first_name desc')\n",
    "print(cur.fetchall())"
   ]
  },
  {
   "cell_type": "markdown",
   "metadata": {},
   "source": [
    "+ Write a query to get the names (first_name, last_name), salary, PF of all the employees (PF is calculated as 12% of salary) on the table \"employees\"  "
   ]
  },
  {
   "cell_type": "code",
   "execution_count": 8,
   "metadata": {},
   "outputs": [
    {
     "output_type": "stream",
     "name": "stdout",
     "text": [
      "[('Steven', 'King', 24000, 2880.0), ('Neena', 'Kochhar', 17000, 2040.0), ('Lex', 'De Haan', 17000, 2040.0), ('Alexander', 'Hunold', 9000, 1080.0), ('Bruce', 'Ernst', 6000, 720.0), ('David', 'Austin', 4800, 576.0), ('Valli', 'Pataballa', 4800, 576.0), ('Diana', 'Lorentz', 4200, 504.0), ('Nancy', 'Greenberg', 12000, 1440.0), ('Daniel', 'Faviet', 9000, 1080.0), ('John', 'Chen', 8200, 984.0), ('Ismael', 'Sciarra', 7700, 924.0), ('Jose Manuel', 'Urman', 7800, 936.0), ('Luis', 'Popp', 6900, 828.0), ('Den', 'Raphaely', 11000, 1320.0), ('Alexander', 'Khoo', 3100, 372.0), ('Shelli', 'Baida', 2900, 348.0), ('Sigal', 'Tobias', 2800, 336.0), ('Guy', 'Himuro', 2600, 312.0), ('Karen', 'Colmenares', 2500, 300.0), ('Matthew', 'Weiss', 8000, 960.0), ('Adam', 'Fripp', 8200, 984.0), ('Payam', 'Kaufling', 7900, 948.0), ('Shanta', 'Vollman', 6500, 780.0), ('Kevin', 'Mourgos', 5800, 696.0), ('Julia', 'Nayer', 3200, 384.0), ('Irene', 'Mikkilineni', 2700, 324.0), ('James', 'Landry', 2400, 288.0), ('Steven', 'Markle', 2200, 264.0), ('Laura', 'Bissot', 3300, 396.0), ('Mozhe', 'Atkinson', 2800, 336.0), ('James', 'Marlow', 2500, 300.0), ('TJ', 'Olson', 2100, 252.0), ('Jason', 'Mallin', 3300, 396.0), ('Michael', 'Rogers', 2900, 348.0), ('Ki', 'Gee', 2400, 288.0), ('Hazel', 'Philtanker', 2200, 264.0), ('Renske', 'Ladwig', 3600, 432.0), ('Stephen', 'Stiles', 3200, 384.0), ('John', 'Seo', 2700, 324.0), ('Joshua', 'Patel', 2500, 300.0), ('Trenna', 'Rajs', 3500, 420.0), ('Curtis', 'Davies', 3100, 372.0), ('Randall', 'Matos', 2600, 312.0), ('Peter', 'Vargas', 2500, 300.0), ('John', 'Russell', 14000, 1680.0), ('Karen', 'Partners', 13500, 1620.0), ('Alberto', 'Errazuriz', 12000, 1440.0), ('Gerald', 'Cambrault', 11000, 1320.0), ('Eleni', 'Zlotkey', 10500, 1260.0), ('Peter', 'Tucker', 10000, 1200.0), ('David', 'Bernstein', 9500, 1140.0), ('Peter', 'Hall', 9000, 1080.0), ('Christopher', 'Olsen', 8000, 960.0), ('Nanette', 'Cambrault', 7500, 900.0), ('Oliver', 'Tuvault', 7000, 840.0), ('Janette', 'King', 10000, 1200.0), ('Patrick', 'Sully', 9500, 1140.0), ('Allan', 'McEwen', 9000, 1080.0), ('Lindsey', 'Smith', 8000, 960.0), ('Louise', 'Doran', 7500, 900.0), ('Sarath', 'Sewall', 7000, 840.0), ('Clara', 'Vishney', 10500, 1260.0), ('Danielle', 'Greene', 9500, 1140.0), ('Mattea', 'Marvins', 7200, 864.0), ('David', 'Lee', 6800, 816.0), ('Sundar', 'Ande', 6400, 768.0), ('Amit', 'Banda', 6200, 744.0), ('Lisa', 'Ozer', 11500, 1380.0), ('Harrison', 'Bloom', 10000, 1200.0), ('Tayler', 'Fox', 9600, 1152.0), ('William', 'Smith', 7400, 888.0), ('Elizabeth', 'Bates', 7300, 876.0), ('Sundita', 'Kumar', 6100, 732.0), ('Ellen', 'Abel', 11000, 1320.0), ('Alyssa', 'Hutton', 8800, 1056.0), ('Jonathon', 'Taylor', 8600, 1032.0), ('Jack', 'Livingston', 8400, 1008.0), ('Kimberely', 'Grant', 7000, 840.0), ('Charles', 'Johnson', 6200, 744.0), ('Winston', 'Taylor', 3200, 384.0), ('Jean', 'Fleaur', 3100, 372.0), ('Martha', 'Sullivan', 2500, 300.0), ('Girard', 'Geoni', 2800, 336.0), ('Nandita', 'Sarchand', 4200, 504.0), ('Alexis', 'Bull', 4100, 492.0), ('Julia', 'Dellinger', 3400, 408.0), ('Anthony', 'Cabrio', 3000, 360.0), ('Kelly', 'Chung', 3800, 456.0), ('Jennifer', 'Dilly', 3600, 432.0), ('Timothy', 'Gates', 2900, 348.0), ('Randall', 'Perkins', 2500, 300.0), ('Sarah', 'Bell', 4000, 480.0), ('Britney', 'Everett', 3900, 468.0), ('Samuel', 'McCain', 3200, 384.0), ('Vance', 'Jones', 2800, 336.0), ('Alana', 'Walsh', 3100, 372.0), ('Kevin', 'Feeney', 3000, 360.0), ('Donald', 'OConnell', 2600, 312.0), ('Douglas', 'Grant', 2600, 312.0), ('Jennifer', 'Whalen', 4400, 528.0), ('Michael', 'Hartstein', 13000, 1560.0), ('Pat', 'Fay', 6000, 720.0), ('Susan', 'Mavris', 6500, 780.0), ('Hermann', 'Baer', 10000, 1200.0), ('Shelley', 'Higgins', 12000, 1440.0), ('William', 'Gietz', 8300, 996.0)]\n"
     ]
    }
   ],
   "source": [
    "cur.execute('select first_name, last_name, salary, salary*0.12 from employees')\n",
    "print(cur.fetchall())"
   ]
  },
  {
   "cell_type": "markdown",
   "metadata": {},
   "source": [
    "+ Write a query to get the employee ID, names (first_name, last_name), salary in ascending order of salary on the table \"employees\"  "
   ]
  },
  {
   "cell_type": "code",
   "execution_count": 9,
   "metadata": {},
   "outputs": [
    {
     "output_type": "stream",
     "name": "stdout",
     "text": [
      "[(132, 'TJ', 'Olson', 2100), (128, 'Steven', 'Markle', 2200), (136, 'Hazel', 'Philtanker', 2200), (127, 'James', 'Landry', 2400), (135, 'Ki', 'Gee', 2400), (119, 'Karen', 'Colmenares', 2500), (131, 'James', 'Marlow', 2500), (140, 'Joshua', 'Patel', 2500), (144, 'Peter', 'Vargas', 2500), (182, 'Martha', 'Sullivan', 2500), (191, 'Randall', 'Perkins', 2500), (118, 'Guy', 'Himuro', 2600), (143, 'Randall', 'Matos', 2600), (198, 'Donald', 'OConnell', 2600), (199, 'Douglas', 'Grant', 2600), (126, 'Irene', 'Mikkilineni', 2700), (139, 'John', 'Seo', 2700), (117, 'Sigal', 'Tobias', 2800), (130, 'Mozhe', 'Atkinson', 2800), (183, 'Girard', 'Geoni', 2800), (195, 'Vance', 'Jones', 2800), (116, 'Shelli', 'Baida', 2900), (134, 'Michael', 'Rogers', 2900), (190, 'Timothy', 'Gates', 2900), (187, 'Anthony', 'Cabrio', 3000), (197, 'Kevin', 'Feeney', 3000), (115, 'Alexander', 'Khoo', 3100), (142, 'Curtis', 'Davies', 3100), (181, 'Jean', 'Fleaur', 3100), (196, 'Alana', 'Walsh', 3100), (125, 'Julia', 'Nayer', 3200), (138, 'Stephen', 'Stiles', 3200), (180, 'Winston', 'Taylor', 3200), (194, 'Samuel', 'McCain', 3200), (129, 'Laura', 'Bissot', 3300), (133, 'Jason', 'Mallin', 3300), (186, 'Julia', 'Dellinger', 3400), (141, 'Trenna', 'Rajs', 3500), (137, 'Renske', 'Ladwig', 3600), (189, 'Jennifer', 'Dilly', 3600), (188, 'Kelly', 'Chung', 3800), (193, 'Britney', 'Everett', 3900), (192, 'Sarah', 'Bell', 4000), (185, 'Alexis', 'Bull', 4100), (107, 'Diana', 'Lorentz', 4200), (184, 'Nandita', 'Sarchand', 4200), (200, 'Jennifer', 'Whalen', 4400), (105, 'David', 'Austin', 4800), (106, 'Valli', 'Pataballa', 4800), (124, 'Kevin', 'Mourgos', 5800), (104, 'Bruce', 'Ernst', 6000), (202, 'Pat', 'Fay', 6000), (173, 'Sundita', 'Kumar', 6100), (167, 'Amit', 'Banda', 6200), (179, 'Charles', 'Johnson', 6200), (166, 'Sundar', 'Ande', 6400), (123, 'Shanta', 'Vollman', 6500), (203, 'Susan', 'Mavris', 6500), (165, 'David', 'Lee', 6800), (113, 'Luis', 'Popp', 6900), (155, 'Oliver', 'Tuvault', 7000), (161, 'Sarath', 'Sewall', 7000), (178, 'Kimberely', 'Grant', 7000), (164, 'Mattea', 'Marvins', 7200), (172, 'Elizabeth', 'Bates', 7300), (171, 'William', 'Smith', 7400), (154, 'Nanette', 'Cambrault', 7500), (160, 'Louise', 'Doran', 7500), (111, 'Ismael', 'Sciarra', 7700), (112, 'Jose Manuel', 'Urman', 7800), (122, 'Payam', 'Kaufling', 7900), (120, 'Matthew', 'Weiss', 8000), (153, 'Christopher', 'Olsen', 8000), (159, 'Lindsey', 'Smith', 8000), (110, 'John', 'Chen', 8200), (121, 'Adam', 'Fripp', 8200), (206, 'William', 'Gietz', 8300), (177, 'Jack', 'Livingston', 8400), (176, 'Jonathon', 'Taylor', 8600), (175, 'Alyssa', 'Hutton', 8800), (103, 'Alexander', 'Hunold', 9000), (109, 'Daniel', 'Faviet', 9000), (152, 'Peter', 'Hall', 9000), (158, 'Allan', 'McEwen', 9000), (151, 'David', 'Bernstein', 9500), (157, 'Patrick', 'Sully', 9500), (163, 'Danielle', 'Greene', 9500), (170, 'Tayler', 'Fox', 9600), (150, 'Peter', 'Tucker', 10000), (156, 'Janette', 'King', 10000), (169, 'Harrison', 'Bloom', 10000), (204, 'Hermann', 'Baer', 10000), (149, 'Eleni', 'Zlotkey', 10500), (162, 'Clara', 'Vishney', 10500), (114, 'Den', 'Raphaely', 11000), (148, 'Gerald', 'Cambrault', 11000), (174, 'Ellen', 'Abel', 11000), (168, 'Lisa', 'Ozer', 11500), (108, 'Nancy', 'Greenberg', 12000), (147, 'Alberto', 'Errazuriz', 12000), (205, 'Shelley', 'Higgins', 12000), (201, 'Michael', 'Hartstein', 13000), (146, 'Karen', 'Partners', 13500), (145, 'John', 'Russell', 14000), (101, 'Neena', 'Kochhar', 17000), (102, 'Lex', 'De Haan', 17000), (100, 'Steven', 'King', 24000)]\n"
     ]
    }
   ],
   "source": [
    "cur.execute('select employee_id, first_name, last_name, salary from employees order by salary asc')\n",
    "print(cur.fetchall())"
   ]
  },
  {
   "cell_type": "markdown",
   "metadata": {},
   "source": [
    "+ Write a query to get the total salaries payable to employees on the table \"employees\"  "
   ]
  },
  {
   "cell_type": "code",
   "execution_count": 10,
   "metadata": {},
   "outputs": [
    {
     "output_type": "stream",
     "name": "stdout",
     "text": [
      "[(691400,)]\n"
     ]
    }
   ],
   "source": [
    "cur.execute('select sum(salary) from employees')\n",
    "print(cur.fetchall())"
   ]
  },
  {
   "cell_type": "markdown",
   "metadata": {},
   "source": [
    "+ Write a query to get the maximum and minimum salary from employees table on the table \"employees\"  "
   ]
  },
  {
   "cell_type": "code",
   "execution_count": 11,
   "metadata": {},
   "outputs": [
    {
     "output_type": "stream",
     "name": "stdout",
     "text": [
      "[(24000, 2100)]\n"
     ]
    }
   ],
   "source": [
    "cur.execute('select max(salary), min(salary) from employees')\n",
    "print(cur.fetchall())"
   ]
  },
  {
   "cell_type": "markdown",
   "metadata": {},
   "source": [
    "+ Write a query to get the average salary and number of employees in the employees table on the table \"employees\"  "
   ]
  },
  {
   "cell_type": "code",
   "execution_count": 12,
   "metadata": {},
   "outputs": [
    {
     "output_type": "stream",
     "name": "stdout",
     "text": [
      "[(6461.682242990654, 107)]\n"
     ]
    }
   ],
   "source": [
    "cur.execute('select avg(salary), count(salary) from employees')\n",
    "print(cur.fetchall())"
   ]
  },
  {
   "cell_type": "markdown",
   "metadata": {},
   "source": [
    "+ Write a query to get the number of employees working with the company on the table \"employees\"  "
   ]
  },
  {
   "cell_type": "code",
   "execution_count": 13,
   "metadata": {},
   "outputs": [
    {
     "output_type": "stream",
     "name": "stdout",
     "text": [
      "[(107,)]\n"
     ]
    }
   ],
   "source": [
    "cur.execute(\"select count(first_name) from employees\")\n",
    "print(cur.fetchall())"
   ]
  },
  {
   "cell_type": "markdown",
   "metadata": {},
   "source": [
    "+ Write a query to get the number of jobs available in the employees table on the table \"employees\"  "
   ]
  },
  {
   "cell_type": "code",
   "execution_count": 13,
   "metadata": {},
   "outputs": [
    {
     "output_type": "error",
     "ename": "OperationalError",
     "evalue": "no such table: job",
     "traceback": [
      "\u001b[1;31m---------------------------------------------------------------------------\u001b[0m",
      "\u001b[1;31mOperationalError\u001b[0m                          Traceback (most recent call last)",
      "\u001b[1;32m<ipython-input-13-8504f71838d1>\u001b[0m in \u001b[0;36m<module>\u001b[1;34m\u001b[0m\n\u001b[1;32m----> 1\u001b[1;33m \u001b[0mcur\u001b[0m\u001b[1;33m.\u001b[0m\u001b[0mexecute\u001b[0m\u001b[1;33m(\u001b[0m\u001b[1;34m\"SELECT * from job\"\u001b[0m\u001b[1;33m)\u001b[0m\u001b[1;33m\u001b[0m\u001b[1;33m\u001b[0m\u001b[0m\n\u001b[0m\u001b[0;32m      2\u001b[0m \u001b[0mprint\u001b[0m\u001b[1;33m(\u001b[0m\u001b[0mcur\u001b[0m\u001b[1;33m.\u001b[0m\u001b[0mfetchall\u001b[0m\u001b[1;33m(\u001b[0m\u001b[1;33m)\u001b[0m\u001b[1;33m)\u001b[0m\u001b[1;33m\u001b[0m\u001b[1;33m\u001b[0m\u001b[0m\n",
      "\u001b[1;31mOperationalError\u001b[0m: no such table: job"
     ]
    }
   ],
   "source": []
  },
  {
   "cell_type": "code",
   "execution_count": 14,
   "metadata": {},
   "outputs": [
    {
     "output_type": "stream",
     "name": "stdout",
     "text": [
      "[('CREATE TABLE employees(\\nemployee_id integer(3) primary key not null,\\nfirst_name varchar(20),\\nlast_name varchar(25),\\nemail varchar(25),\\nphone_number varchar(20),\\nhire_date date,\\njob_id varchar(10) not null,\\nsalary decimal,\\ncommission_pct number,\\nmanager_id integer(3),\\ndepartment_id integer(3), Avg_Salary NUMERIC)',)]\n"
     ]
    }
   ],
   "source": [
    "cur.execute(\"SELECT sql FROM sqlite_master WHERE tbl_name = 'employees' AND type = 'table'\")\n",
    "print(cur.fetchall())"
   ]
  },
  {
   "cell_type": "markdown",
   "metadata": {},
   "source": [
    "+ Write a query get all first name from employees table in upper case on the table \"employees\"  "
   ]
  },
  {
   "cell_type": "code",
   "execution_count": 15,
   "metadata": {},
   "outputs": [
    {
     "output_type": "stream",
     "name": "stdout",
     "text": [
      "[('STEVEN',), ('NEENA',), ('LEX',), ('ALEXANDER',), ('BRUCE',), ('DAVID',), ('VALLI',), ('DIANA',), ('NANCY',), ('DANIEL',), ('JOHN',), ('ISMAEL',), ('JOSE MANUEL',), ('LUIS',), ('DEN',), ('ALEXANDER',), ('SHELLI',), ('SIGAL',), ('GUY',), ('KAREN',), ('MATTHEW',), ('ADAM',), ('PAYAM',), ('SHANTA',), ('KEVIN',), ('JULIA',), ('IRENE',), ('JAMES',), ('STEVEN',), ('LAURA',), ('MOZHE',), ('JAMES',), ('TJ',), ('JASON',), ('MICHAEL',), ('KI',), ('HAZEL',), ('RENSKE',), ('STEPHEN',), ('JOHN',), ('JOSHUA',), ('TRENNA',), ('CURTIS',), ('RANDALL',), ('PETER',), ('JOHN',), ('KAREN',), ('ALBERTO',), ('GERALD',), ('ELENI',), ('PETER',), ('DAVID',), ('PETER',), ('CHRISTOPHER',), ('NANETTE',), ('OLIVER',), ('JANETTE',), ('PATRICK',), ('ALLAN',), ('LINDSEY',), ('LOUISE',), ('SARATH',), ('CLARA',), ('DANIELLE',), ('MATTEA',), ('DAVID',), ('SUNDAR',), ('AMIT',), ('LISA',), ('HARRISON',), ('TAYLER',), ('WILLIAM',), ('ELIZABETH',), ('SUNDITA',), ('ELLEN',), ('ALYSSA',), ('JONATHON',), ('JACK',), ('KIMBERELY',), ('CHARLES',), ('WINSTON',), ('JEAN',), ('MARTHA',), ('GIRARD',), ('NANDITA',), ('ALEXIS',), ('JULIA',), ('ANTHONY',), ('KELLY',), ('JENNIFER',), ('TIMOTHY',), ('RANDALL',), ('SARAH',), ('BRITNEY',), ('SAMUEL',), ('VANCE',), ('ALANA',), ('KEVIN',), ('DONALD',), ('DOUGLAS',), ('JENNIFER',), ('MICHAEL',), ('PAT',), ('SUSAN',), ('HERMANN',), ('SHELLEY',), ('WILLIAM',)]\n"
     ]
    }
   ],
   "source": [
    "cur.execute(\"select UPPER(first_name) from employees\")\n",
    "print(cur.fetchall())"
   ]
  },
  {
   "cell_type": "markdown",
   "metadata": {},
   "source": [
    "+ Write a query to get the first 3 characters of first name from employees table on the table \"employees\"  "
   ]
  },
  {
   "cell_type": "code",
   "execution_count": 16,
   "metadata": {},
   "outputs": [
    {
     "output_type": "stream",
     "name": "stdout",
     "text": [
      "[('Ste',), ('Nee',), ('Lex',), ('Ale',), ('Bru',), ('Dav',), ('Val',), ('Dia',), ('Nan',), ('Dan',), ('Joh',), ('Ism',), ('Jos',), ('Lui',), ('Den',), ('Ale',), ('She',), ('Sig',), ('Guy',), ('Kar',), ('Mat',), ('Ada',), ('Pay',), ('Sha',), ('Kev',), ('Jul',), ('Ire',), ('Jam',), ('Ste',), ('Lau',), ('Moz',), ('Jam',), ('TJ',), ('Jas',), ('Mic',), ('Ki',), ('Haz',), ('Ren',), ('Ste',), ('Joh',), ('Jos',), ('Tre',), ('Cur',), ('Ran',), ('Pet',), ('Joh',), ('Kar',), ('Alb',), ('Ger',), ('Ele',), ('Pet',), ('Dav',), ('Pet',), ('Chr',), ('Nan',), ('Oli',), ('Jan',), ('Pat',), ('All',), ('Lin',), ('Lou',), ('Sar',), ('Cla',), ('Dan',), ('Mat',), ('Dav',), ('Sun',), ('Ami',), ('Lis',), ('Har',), ('Tay',), ('Wil',), ('Eli',), ('Sun',), ('Ell',), ('Aly',), ('Jon',), ('Jac',), ('Kim',), ('Cha',), ('Win',), ('Jea',), ('Mar',), ('Gir',), ('Nan',), ('Ale',), ('Jul',), ('Ant',), ('Kel',), ('Jen',), ('Tim',), ('Ran',), ('Sar',), ('Bri',), ('Sam',), ('Van',), ('Ala',), ('Kev',), ('Don',), ('Dou',), ('Jen',), ('Mic',), ('Pat',), ('Sus',), ('Her',), ('She',), ('Wil',)]\n"
     ]
    }
   ],
   "source": [
    "cur.execute(\"select substr(first_name,0,4) from employees\")\n",
    "print(cur.fetchall())"
   ]
  },
  {
   "cell_type": "markdown",
   "metadata": {},
   "source": [
    "+ Write a query to calculate 171*214+625."
   ]
  },
  {
   "cell_type": "code",
   "execution_count": 17,
   "metadata": {},
   "outputs": [
    {
     "output_type": "execute_result",
     "data": {
      "text/plain": [
       "   171*214+625\n",
       "0        37219"
      ],
      "text/html": "<div>\n<style scoped>\n    .dataframe tbody tr th:only-of-type {\n        vertical-align: middle;\n    }\n\n    .dataframe tbody tr th {\n        vertical-align: top;\n    }\n\n    .dataframe thead th {\n        text-align: right;\n    }\n</style>\n<table border=\"1\" class=\"dataframe\">\n  <thead>\n    <tr style=\"text-align: right;\">\n      <th></th>\n      <th>171*214+625</th>\n    </tr>\n  </thead>\n  <tbody>\n    <tr>\n      <th>0</th>\n      <td>37219</td>\n    </tr>\n  </tbody>\n</table>\n</div>"
     },
     "metadata": {},
     "execution_count": 17
    }
   ],
   "source": [
    "df = pd.read_sql(\"select 171*214+625\", conn)\n",
    "df.head()"
   ]
  },
  {
   "cell_type": "markdown",
   "metadata": {},
   "source": [
    "+ Write a query to get the names (for example Ellen Abel, Sundar Ande etc.) of all the employees from employees table"
   ]
  },
  {
   "cell_type": "code",
   "execution_count": 18,
   "metadata": {},
   "outputs": [
    {
     "output_type": "execute_result",
     "data": {
      "text/plain": [
       "          full_name\n",
       "0       Steven King\n",
       "1     Neena Kochhar\n",
       "2       Lex De Haan\n",
       "3  Alexander Hunold\n",
       "4       Bruce Ernst"
      ],
      "text/html": "<div>\n<style scoped>\n    .dataframe tbody tr th:only-of-type {\n        vertical-align: middle;\n    }\n\n    .dataframe tbody tr th {\n        vertical-align: top;\n    }\n\n    .dataframe thead th {\n        text-align: right;\n    }\n</style>\n<table border=\"1\" class=\"dataframe\">\n  <thead>\n    <tr style=\"text-align: right;\">\n      <th></th>\n      <th>full_name</th>\n    </tr>\n  </thead>\n  <tbody>\n    <tr>\n      <th>0</th>\n      <td>Steven King</td>\n    </tr>\n    <tr>\n      <th>1</th>\n      <td>Neena Kochhar</td>\n    </tr>\n    <tr>\n      <th>2</th>\n      <td>Lex De Haan</td>\n    </tr>\n    <tr>\n      <th>3</th>\n      <td>Alexander Hunold</td>\n    </tr>\n    <tr>\n      <th>4</th>\n      <td>Bruce Ernst</td>\n    </tr>\n  </tbody>\n</table>\n</div>"
     },
     "metadata": {},
     "execution_count": 18
    }
   ],
   "source": [
    "df = pd.read_sql(\"select first_name ||' '||last_name as full_name from employees\", conn)\n",
    "df.head()"
   ]
  },
  {
   "cell_type": "markdown",
   "metadata": {},
   "source": [
    "+ Write a query to get first name from employees table after removing white spaces from both side on the table \"employees\"  "
   ]
  },
  {
   "cell_type": "code",
   "execution_count": 19,
   "metadata": {},
   "outputs": [
    {
     "output_type": "execute_result",
     "data": {
      "text/plain": [
       "  TRIM(first_name)\n",
       "0           Steven\n",
       "1            Neena\n",
       "2              Lex\n",
       "3        Alexander\n",
       "4            Bruce"
      ],
      "text/html": "<div>\n<style scoped>\n    .dataframe tbody tr th:only-of-type {\n        vertical-align: middle;\n    }\n\n    .dataframe tbody tr th {\n        vertical-align: top;\n    }\n\n    .dataframe thead th {\n        text-align: right;\n    }\n</style>\n<table border=\"1\" class=\"dataframe\">\n  <thead>\n    <tr style=\"text-align: right;\">\n      <th></th>\n      <th>TRIM(first_name)</th>\n    </tr>\n  </thead>\n  <tbody>\n    <tr>\n      <th>0</th>\n      <td>Steven</td>\n    </tr>\n    <tr>\n      <th>1</th>\n      <td>Neena</td>\n    </tr>\n    <tr>\n      <th>2</th>\n      <td>Lex</td>\n    </tr>\n    <tr>\n      <th>3</th>\n      <td>Alexander</td>\n    </tr>\n    <tr>\n      <th>4</th>\n      <td>Bruce</td>\n    </tr>\n  </tbody>\n</table>\n</div>"
     },
     "metadata": {},
     "execution_count": 19
    }
   ],
   "source": [
    "df = pd.read_sql(\"select TRIM(first_name) from employees\", conn)\n",
    "df.head()"
   ]
  },
  {
   "cell_type": "markdown",
   "metadata": {},
   "source": [
    "+ Write a query to get the length of the employee names (first_name, last_name) from employees table on the table \"employees\"  "
   ]
  },
  {
   "cell_type": "code",
   "execution_count": 20,
   "metadata": {},
   "outputs": [
    {
     "output_type": "execute_result",
     "data": {
      "text/plain": [
       "   length(first_name ||' '|| last_name)\n",
       "0                                    11\n",
       "1                                    13\n",
       "2                                    11\n",
       "3                                    16\n",
       "4                                    11"
      ],
      "text/html": "<div>\n<style scoped>\n    .dataframe tbody tr th:only-of-type {\n        vertical-align: middle;\n    }\n\n    .dataframe tbody tr th {\n        vertical-align: top;\n    }\n\n    .dataframe thead th {\n        text-align: right;\n    }\n</style>\n<table border=\"1\" class=\"dataframe\">\n  <thead>\n    <tr style=\"text-align: right;\">\n      <th></th>\n      <th>length(first_name ||' '|| last_name)</th>\n    </tr>\n  </thead>\n  <tbody>\n    <tr>\n      <th>0</th>\n      <td>11</td>\n    </tr>\n    <tr>\n      <th>1</th>\n      <td>13</td>\n    </tr>\n    <tr>\n      <th>2</th>\n      <td>11</td>\n    </tr>\n    <tr>\n      <th>3</th>\n      <td>16</td>\n    </tr>\n    <tr>\n      <th>4</th>\n      <td>11</td>\n    </tr>\n  </tbody>\n</table>\n</div>"
     },
     "metadata": {},
     "execution_count": 20
    }
   ],
   "source": [
    "df = pd.read_sql(\"select length(first_name ||' '|| last_name) from employees\", conn)\n",
    "df.head()"
   ]
  },
  {
   "cell_type": "markdown",
   "metadata": {},
   "source": [
    "+ Write a query to select first 10 records from a table on the table \"employees\"  \n",
    "Note : Assume the salary field provides the 'annual salary' information."
   ]
  },
  {
   "cell_type": "code",
   "execution_count": 21,
   "metadata": {},
   "outputs": [
    {
     "output_type": "execute_result",
     "data": {
      "text/plain": [
       "   employee_id first_name last_name     email  phone_number   hire_date  \\\n",
       "0          100     Steven      King     SKING  515.123.4567  1987-06-17   \n",
       "1          101      Neena   Kochhar  NKOCHHAR  515.123.4568  1987-06-18   \n",
       "2          102        Lex   De Haan   LDEHAAN  515.123.4569  1987-06-19   \n",
       "3          103  Alexander    Hunold   AHUNOLD  590.423.4567  1987-06-20   \n",
       "4          104      Bruce     Ernst    BERNST  590.423.4568  1987-06-21   \n",
       "\n",
       "    job_id  salary  commission_pct  manager_id  department_id Avg_Salary  \n",
       "0  AD_PRES   24000               0           0             90       None  \n",
       "1    AD_VP   17000               0         100             90       None  \n",
       "2    AD_VP   17000               0         100             90       None  \n",
       "3  IT_PROG    9000               0         102             60       None  \n",
       "4  IT_PROG    6000               0         103             60       None  "
      ],
      "text/html": "<div>\n<style scoped>\n    .dataframe tbody tr th:only-of-type {\n        vertical-align: middle;\n    }\n\n    .dataframe tbody tr th {\n        vertical-align: top;\n    }\n\n    .dataframe thead th {\n        text-align: right;\n    }\n</style>\n<table border=\"1\" class=\"dataframe\">\n  <thead>\n    <tr style=\"text-align: right;\">\n      <th></th>\n      <th>employee_id</th>\n      <th>first_name</th>\n      <th>last_name</th>\n      <th>email</th>\n      <th>phone_number</th>\n      <th>hire_date</th>\n      <th>job_id</th>\n      <th>salary</th>\n      <th>commission_pct</th>\n      <th>manager_id</th>\n      <th>department_id</th>\n      <th>Avg_Salary</th>\n    </tr>\n  </thead>\n  <tbody>\n    <tr>\n      <th>0</th>\n      <td>100</td>\n      <td>Steven</td>\n      <td>King</td>\n      <td>SKING</td>\n      <td>515.123.4567</td>\n      <td>1987-06-17</td>\n      <td>AD_PRES</td>\n      <td>24000</td>\n      <td>0</td>\n      <td>0</td>\n      <td>90</td>\n      <td>None</td>\n    </tr>\n    <tr>\n      <th>1</th>\n      <td>101</td>\n      <td>Neena</td>\n      <td>Kochhar</td>\n      <td>NKOCHHAR</td>\n      <td>515.123.4568</td>\n      <td>1987-06-18</td>\n      <td>AD_VP</td>\n      <td>17000</td>\n      <td>0</td>\n      <td>100</td>\n      <td>90</td>\n      <td>None</td>\n    </tr>\n    <tr>\n      <th>2</th>\n      <td>102</td>\n      <td>Lex</td>\n      <td>De Haan</td>\n      <td>LDEHAAN</td>\n      <td>515.123.4569</td>\n      <td>1987-06-19</td>\n      <td>AD_VP</td>\n      <td>17000</td>\n      <td>0</td>\n      <td>100</td>\n      <td>90</td>\n      <td>None</td>\n    </tr>\n    <tr>\n      <th>3</th>\n      <td>103</td>\n      <td>Alexander</td>\n      <td>Hunold</td>\n      <td>AHUNOLD</td>\n      <td>590.423.4567</td>\n      <td>1987-06-20</td>\n      <td>IT_PROG</td>\n      <td>9000</td>\n      <td>0</td>\n      <td>102</td>\n      <td>60</td>\n      <td>None</td>\n    </tr>\n    <tr>\n      <th>4</th>\n      <td>104</td>\n      <td>Bruce</td>\n      <td>Ernst</td>\n      <td>BERNST</td>\n      <td>590.423.4568</td>\n      <td>1987-06-21</td>\n      <td>IT_PROG</td>\n      <td>6000</td>\n      <td>0</td>\n      <td>103</td>\n      <td>60</td>\n      <td>None</td>\n    </tr>\n  </tbody>\n</table>\n</div>"
     },
     "metadata": {},
     "execution_count": 21
    }
   ],
   "source": [
    "df = pd.read_sql(\"select* from employees limit 10\", conn)\n",
    "df.head()"
   ]
  },
  {
   "cell_type": "markdown",
   "metadata": {},
   "source": [
    "+ Write a query to get monthly salary (round 2 decimal places) of each and every employee? - on the table \"employees\"  "
   ]
  },
  {
   "cell_type": "code",
   "execution_count": 22,
   "metadata": {},
   "outputs": [
    {
     "output_type": "execute_result",
     "data": {
      "text/plain": [
       "  first_name  sum(salary)/12\n",
       "0     Steven            2000\n",
       "1      Neena            1416\n",
       "2        Lex            1416\n",
       "3  Alexander             750\n",
       "4      Bruce             500"
      ],
      "text/html": "<div>\n<style scoped>\n    .dataframe tbody tr th:only-of-type {\n        vertical-align: middle;\n    }\n\n    .dataframe tbody tr th {\n        vertical-align: top;\n    }\n\n    .dataframe thead th {\n        text-align: right;\n    }\n</style>\n<table border=\"1\" class=\"dataframe\">\n  <thead>\n    <tr style=\"text-align: right;\">\n      <th></th>\n      <th>first_name</th>\n      <th>sum(salary)/12</th>\n    </tr>\n  </thead>\n  <tbody>\n    <tr>\n      <th>0</th>\n      <td>Steven</td>\n      <td>2000</td>\n    </tr>\n    <tr>\n      <th>1</th>\n      <td>Neena</td>\n      <td>1416</td>\n    </tr>\n    <tr>\n      <th>2</th>\n      <td>Lex</td>\n      <td>1416</td>\n    </tr>\n    <tr>\n      <th>3</th>\n      <td>Alexander</td>\n      <td>750</td>\n    </tr>\n    <tr>\n      <th>4</th>\n      <td>Bruce</td>\n      <td>500</td>\n    </tr>\n  </tbody>\n</table>\n</div>"
     },
     "metadata": {},
     "execution_count": 22
    }
   ],
   "source": [
    "\n",
    "df = pd.read_sql(\"select first_name, sum(salary)/12 from employees group by employee_id, substr(hire_date,6,2)\", conn)\n",
    "df.head()"
   ]
  },
  {
   "cell_type": "markdown",
   "metadata": {},
   "source": [
    "+ Write a query to display the names (first_name, last_name) and salary for all employees whose salary is not in the range $10,000 through $15,000 on the table \"employees\"  "
   ]
  },
  {
   "cell_type": "code",
   "execution_count": 23,
   "metadata": {},
   "outputs": [
    {
     "output_type": "execute_result",
     "data": {
      "text/plain": [
       "  first_name last_name  salary\n",
       "0     Steven      King   24000\n",
       "1      Neena   Kochhar   17000\n",
       "2        Lex   De Haan   17000\n",
       "3  Alexander    Hunold    9000\n",
       "4      Bruce     Ernst    6000"
      ],
      "text/html": "<div>\n<style scoped>\n    .dataframe tbody tr th:only-of-type {\n        vertical-align: middle;\n    }\n\n    .dataframe tbody tr th {\n        vertical-align: top;\n    }\n\n    .dataframe thead th {\n        text-align: right;\n    }\n</style>\n<table border=\"1\" class=\"dataframe\">\n  <thead>\n    <tr style=\"text-align: right;\">\n      <th></th>\n      <th>first_name</th>\n      <th>last_name</th>\n      <th>salary</th>\n    </tr>\n  </thead>\n  <tbody>\n    <tr>\n      <th>0</th>\n      <td>Steven</td>\n      <td>King</td>\n      <td>24000</td>\n    </tr>\n    <tr>\n      <th>1</th>\n      <td>Neena</td>\n      <td>Kochhar</td>\n      <td>17000</td>\n    </tr>\n    <tr>\n      <th>2</th>\n      <td>Lex</td>\n      <td>De Haan</td>\n      <td>17000</td>\n    </tr>\n    <tr>\n      <th>3</th>\n      <td>Alexander</td>\n      <td>Hunold</td>\n      <td>9000</td>\n    </tr>\n    <tr>\n      <th>4</th>\n      <td>Bruce</td>\n      <td>Ernst</td>\n      <td>6000</td>\n    </tr>\n  </tbody>\n</table>\n</div>"
     },
     "metadata": {},
     "execution_count": 23
    }
   ],
   "source": [
    "\n",
    "df = pd.read_sql(\"select first_name, last_name, salary from employees where not(salary > 10000 and salary < 15000)\", conn)\n",
    "df.head()"
   ]
  },
  {
   "cell_type": "markdown",
   "metadata": {},
   "source": [
    "+ Write a query to display the names (first_name, last_name) and department ID of all employees in departments 30 or 100 in ascending alphabetical order by department ID on the table \"employees\"  "
   ]
  },
  {
   "cell_type": "code",
   "execution_count": 24,
   "metadata": {},
   "outputs": [
    {
     "output_type": "execute_result",
     "data": {
      "text/plain": [
       "  first_name   last_name\n",
       "0  Alexander        Khoo\n",
       "1        Den    Raphaely\n",
       "2        Guy      Himuro\n",
       "3      Karen  Colmenares\n",
       "4     Shelli       Baida"
      ],
      "text/html": "<div>\n<style scoped>\n    .dataframe tbody tr th:only-of-type {\n        vertical-align: middle;\n    }\n\n    .dataframe tbody tr th {\n        vertical-align: top;\n    }\n\n    .dataframe thead th {\n        text-align: right;\n    }\n</style>\n<table border=\"1\" class=\"dataframe\">\n  <thead>\n    <tr style=\"text-align: right;\">\n      <th></th>\n      <th>first_name</th>\n      <th>last_name</th>\n    </tr>\n  </thead>\n  <tbody>\n    <tr>\n      <th>0</th>\n      <td>Alexander</td>\n      <td>Khoo</td>\n    </tr>\n    <tr>\n      <th>1</th>\n      <td>Den</td>\n      <td>Raphaely</td>\n    </tr>\n    <tr>\n      <th>2</th>\n      <td>Guy</td>\n      <td>Himuro</td>\n    </tr>\n    <tr>\n      <th>3</th>\n      <td>Karen</td>\n      <td>Colmenares</td>\n    </tr>\n    <tr>\n      <th>4</th>\n      <td>Shelli</td>\n      <td>Baida</td>\n    </tr>\n  </tbody>\n</table>\n</div>"
     },
     "metadata": {},
     "execution_count": 24
    }
   ],
   "source": [
    "df = pd.read_sql(\"select first_name, last_name from employees where department_id = 30 or department_id = 100 order by department_id, first_name asc\", conn)\n",
    "df.head()"
   ]
  },
  {
   "cell_type": "markdown",
   "metadata": {},
   "source": [
    "+ Write a query to display the names (first_name, last_name) and salary for all employees whose salary is not in the range $10,000 through $15,000 and are in department 30 or 100 on the table \"employees\"  "
   ]
  },
  {
   "cell_type": "code",
   "execution_count": 25,
   "metadata": {},
   "outputs": [
    {
     "output_type": "execute_result",
     "data": {
      "text/plain": [
       "    first_name last_name\n",
       "0       Daniel    Faviet\n",
       "1         John      Chen\n",
       "2       Ismael   Sciarra\n",
       "3  Jose Manuel     Urman\n",
       "4         Luis      Popp"
      ],
      "text/html": "<div>\n<style scoped>\n    .dataframe tbody tr th:only-of-type {\n        vertical-align: middle;\n    }\n\n    .dataframe tbody tr th {\n        vertical-align: top;\n    }\n\n    .dataframe thead th {\n        text-align: right;\n    }\n</style>\n<table border=\"1\" class=\"dataframe\">\n  <thead>\n    <tr style=\"text-align: right;\">\n      <th></th>\n      <th>first_name</th>\n      <th>last_name</th>\n    </tr>\n  </thead>\n  <tbody>\n    <tr>\n      <th>0</th>\n      <td>Daniel</td>\n      <td>Faviet</td>\n    </tr>\n    <tr>\n      <th>1</th>\n      <td>John</td>\n      <td>Chen</td>\n    </tr>\n    <tr>\n      <th>2</th>\n      <td>Ismael</td>\n      <td>Sciarra</td>\n    </tr>\n    <tr>\n      <th>3</th>\n      <td>Jose Manuel</td>\n      <td>Urman</td>\n    </tr>\n    <tr>\n      <th>4</th>\n      <td>Luis</td>\n      <td>Popp</td>\n    </tr>\n  </tbody>\n</table>\n</div>"
     },
     "metadata": {},
     "execution_count": 25
    }
   ],
   "source": [
    "df = pd.read_sql(\"select first_name, last_name from employees where (department_id = 30 or department_id = 100) and not(salary > 10000 and salary < 15000)\", conn)\n",
    "df.head()"
   ]
  },
  {
   "cell_type": "markdown",
   "metadata": {},
   "source": [
    "+ Write a query to display the first_name of all employees who have both an \"b\" and \"c\" in their first name. on the table \"employees\"  "
   ]
  },
  {
   "cell_type": "code",
   "execution_count": 26,
   "metadata": {},
   "outputs": [
    {
     "output_type": "execute_result",
     "data": {
      "text/plain": [
       "  first_name\n",
       "0      Bruce"
      ],
      "text/html": "<div>\n<style scoped>\n    .dataframe tbody tr th:only-of-type {\n        vertical-align: middle;\n    }\n\n    .dataframe tbody tr th {\n        vertical-align: top;\n    }\n\n    .dataframe thead th {\n        text-align: right;\n    }\n</style>\n<table border=\"1\" class=\"dataframe\">\n  <thead>\n    <tr style=\"text-align: right;\">\n      <th></th>\n      <th>first_name</th>\n    </tr>\n  </thead>\n  <tbody>\n    <tr>\n      <th>0</th>\n      <td>Bruce</td>\n    </tr>\n  </tbody>\n</table>\n</div>"
     },
     "metadata": {},
     "execution_count": 26
    }
   ],
   "source": [
    "df = pd.read_sql(\"select first_name from employees where first_name LIKE '%b%' and first_name like '%c%' \", conn)\n",
    "df.head()"
   ]
  },
  {
   "cell_type": "markdown",
   "metadata": {},
   "source": [
    "+ Write a query to display the last name, job, and salary for all employees whose job is that of a Programmer or a Shipping Clerk, and whose salary is not equal to $4,500, $10,000, or $15,000 on the table \"employees\"  "
   ]
  },
  {
   "cell_type": "code",
   "execution_count": 27,
   "metadata": {},
   "outputs": [
    {
     "output_type": "execute_result",
     "data": {
      "text/plain": [
       "   last_name   job_id  salary   job_title\n",
       "0     Hunold  IT_PROG    9000  Programmer\n",
       "1      Ernst  IT_PROG    6000  Programmer\n",
       "2     Austin  IT_PROG    4800  Programmer\n",
       "3  Pataballa  IT_PROG    4800  Programmer\n",
       "4    Lorentz  IT_PROG    4200  Programmer"
      ],
      "text/html": "<div>\n<style scoped>\n    .dataframe tbody tr th:only-of-type {\n        vertical-align: middle;\n    }\n\n    .dataframe tbody tr th {\n        vertical-align: top;\n    }\n\n    .dataframe thead th {\n        text-align: right;\n    }\n</style>\n<table border=\"1\" class=\"dataframe\">\n  <thead>\n    <tr style=\"text-align: right;\">\n      <th></th>\n      <th>last_name</th>\n      <th>job_id</th>\n      <th>salary</th>\n      <th>job_title</th>\n    </tr>\n  </thead>\n  <tbody>\n    <tr>\n      <th>0</th>\n      <td>Hunold</td>\n      <td>IT_PROG</td>\n      <td>9000</td>\n      <td>Programmer</td>\n    </tr>\n    <tr>\n      <th>1</th>\n      <td>Ernst</td>\n      <td>IT_PROG</td>\n      <td>6000</td>\n      <td>Programmer</td>\n    </tr>\n    <tr>\n      <th>2</th>\n      <td>Austin</td>\n      <td>IT_PROG</td>\n      <td>4800</td>\n      <td>Programmer</td>\n    </tr>\n    <tr>\n      <th>3</th>\n      <td>Pataballa</td>\n      <td>IT_PROG</td>\n      <td>4800</td>\n      <td>Programmer</td>\n    </tr>\n    <tr>\n      <th>4</th>\n      <td>Lorentz</td>\n      <td>IT_PROG</td>\n      <td>4200</td>\n      <td>Programmer</td>\n    </tr>\n  </tbody>\n</table>\n</div>"
     },
     "metadata": {},
     "execution_count": 27
    }
   ],
   "source": [
    "df = pd.read_sql(\"\"\"\n",
    "select e.last_name, e.job_id, e.salary, j.job_title\n",
    "from employees as e \n",
    "inner join jobs as j \n",
    "ON e.job_id = j.job_id\n",
    "where (j.job_title = 'Programmer' or j.job_title = 'Shipping Clerk')and not(e.salary = 4500 or e.salary = 10000 or e.salary = 15000)\"\"\", conn)\n",
    "df.head()"
   ]
  },
  {
   "cell_type": "markdown",
   "metadata": {},
   "source": [
    "+ Write a query to display the last names of employees whose names have exactly 6 characters on the table \"employees\"  "
   ]
  },
  {
   "cell_type": "code",
   "execution_count": 28,
   "metadata": {},
   "outputs": [
    {
     "output_type": "execute_result",
     "data": {
      "text/plain": [
       "  last_name\n",
       "0    Hunold\n",
       "1    Austin\n",
       "2    Faviet\n",
       "3    Tobias\n",
       "4    Himuro"
      ],
      "text/html": "<div>\n<style scoped>\n    .dataframe tbody tr th:only-of-type {\n        vertical-align: middle;\n    }\n\n    .dataframe tbody tr th {\n        vertical-align: top;\n    }\n\n    .dataframe thead th {\n        text-align: right;\n    }\n</style>\n<table border=\"1\" class=\"dataframe\">\n  <thead>\n    <tr style=\"text-align: right;\">\n      <th></th>\n      <th>last_name</th>\n    </tr>\n  </thead>\n  <tbody>\n    <tr>\n      <th>0</th>\n      <td>Hunold</td>\n    </tr>\n    <tr>\n      <th>1</th>\n      <td>Austin</td>\n    </tr>\n    <tr>\n      <th>2</th>\n      <td>Faviet</td>\n    </tr>\n    <tr>\n      <th>3</th>\n      <td>Tobias</td>\n    </tr>\n    <tr>\n      <th>4</th>\n      <td>Himuro</td>\n    </tr>\n  </tbody>\n</table>\n</div>"
     },
     "metadata": {},
     "execution_count": 28
    }
   ],
   "source": [
    "df = pd.read_sql(\"select last_name from employees where length(last_name)==6\",conn)\n",
    "df.head()"
   ]
  },
  {
   "cell_type": "markdown",
   "metadata": {},
   "source": [
    "+ Write a query to display the last names of employees having 'e' as the third character on the table \"employees\"  "
   ]
  },
  {
   "cell_type": "code",
   "execution_count": 29,
   "metadata": {},
   "outputs": [
    {
     "output_type": "execute_result",
     "data": {
      "text/plain": [
       "   last_name\n",
       "0  Greenberg\n",
       "1       Chen\n",
       "2        Gee\n",
       "3     Greene\n",
       "4        Lee"
      ],
      "text/html": "<div>\n<style scoped>\n    .dataframe tbody tr th:only-of-type {\n        vertical-align: middle;\n    }\n\n    .dataframe tbody tr th {\n        vertical-align: top;\n    }\n\n    .dataframe thead th {\n        text-align: right;\n    }\n</style>\n<table border=\"1\" class=\"dataframe\">\n  <thead>\n    <tr style=\"text-align: right;\">\n      <th></th>\n      <th>last_name</th>\n    </tr>\n  </thead>\n  <tbody>\n    <tr>\n      <th>0</th>\n      <td>Greenberg</td>\n    </tr>\n    <tr>\n      <th>1</th>\n      <td>Chen</td>\n    </tr>\n    <tr>\n      <th>2</th>\n      <td>Gee</td>\n    </tr>\n    <tr>\n      <th>3</th>\n      <td>Greene</td>\n    </tr>\n    <tr>\n      <th>4</th>\n      <td>Lee</td>\n    </tr>\n  </tbody>\n</table>\n</div>"
     },
     "metadata": {},
     "execution_count": 29
    }
   ],
   "source": [
    "df = pd.read_sql(\"select last_name from employees where substr(last_name,3,1)='e'\",conn)\n",
    "df.head()"
   ]
  },
  {
   "cell_type": "markdown",
   "metadata": {},
   "source": [
    "+ Write a query to display the jobs/designations available in the employees table on the table \"employees\"  "
   ]
  },
  {
   "cell_type": "code",
   "execution_count": 33,
   "metadata": {},
   "outputs": [
    {
     "output_type": "execute_result",
     "data": {
      "text/plain": [
       "   employee_id first_name last_name     email  phone_number   hire_date  \\\n",
       "0          100     Steven      King     SKING  515.123.4567  1987-06-17   \n",
       "1          101      Neena   Kochhar  NKOCHHAR  515.123.4568  1987-06-18   \n",
       "2          102        Lex   De Haan   LDEHAAN  515.123.4569  1987-06-19   \n",
       "3          103  Alexander    Hunold   AHUNOLD  590.423.4567  1987-06-20   \n",
       "4          104      Bruce     Ernst    BERNST  590.423.4568  1987-06-21   \n",
       "\n",
       "    job_id  salary  commission_pct  manager_id  department_id Avg_Salary  \n",
       "0  AD_PRES   24000             0.0           0             90       None  \n",
       "1    AD_VP   17000             0.0         100             90       None  \n",
       "2    AD_VP   17000             0.0         100             90       None  \n",
       "3  IT_PROG    9000             0.0         102             60       None  \n",
       "4  IT_PROG    6000             0.0         103             60       None  "
      ],
      "text/html": "<div>\n<style scoped>\n    .dataframe tbody tr th:only-of-type {\n        vertical-align: middle;\n    }\n\n    .dataframe tbody tr th {\n        vertical-align: top;\n    }\n\n    .dataframe thead th {\n        text-align: right;\n    }\n</style>\n<table border=\"1\" class=\"dataframe\">\n  <thead>\n    <tr style=\"text-align: right;\">\n      <th></th>\n      <th>employee_id</th>\n      <th>first_name</th>\n      <th>last_name</th>\n      <th>email</th>\n      <th>phone_number</th>\n      <th>hire_date</th>\n      <th>job_id</th>\n      <th>salary</th>\n      <th>commission_pct</th>\n      <th>manager_id</th>\n      <th>department_id</th>\n      <th>Avg_Salary</th>\n    </tr>\n  </thead>\n  <tbody>\n    <tr>\n      <th>0</th>\n      <td>100</td>\n      <td>Steven</td>\n      <td>King</td>\n      <td>SKING</td>\n      <td>515.123.4567</td>\n      <td>1987-06-17</td>\n      <td>AD_PRES</td>\n      <td>24000</td>\n      <td>0.0</td>\n      <td>0</td>\n      <td>90</td>\n      <td>None</td>\n    </tr>\n    <tr>\n      <th>1</th>\n      <td>101</td>\n      <td>Neena</td>\n      <td>Kochhar</td>\n      <td>NKOCHHAR</td>\n      <td>515.123.4568</td>\n      <td>1987-06-18</td>\n      <td>AD_VP</td>\n      <td>17000</td>\n      <td>0.0</td>\n      <td>100</td>\n      <td>90</td>\n      <td>None</td>\n    </tr>\n    <tr>\n      <th>2</th>\n      <td>102</td>\n      <td>Lex</td>\n      <td>De Haan</td>\n      <td>LDEHAAN</td>\n      <td>515.123.4569</td>\n      <td>1987-06-19</td>\n      <td>AD_VP</td>\n      <td>17000</td>\n      <td>0.0</td>\n      <td>100</td>\n      <td>90</td>\n      <td>None</td>\n    </tr>\n    <tr>\n      <th>3</th>\n      <td>103</td>\n      <td>Alexander</td>\n      <td>Hunold</td>\n      <td>AHUNOLD</td>\n      <td>590.423.4567</td>\n      <td>1987-06-20</td>\n      <td>IT_PROG</td>\n      <td>9000</td>\n      <td>0.0</td>\n      <td>102</td>\n      <td>60</td>\n      <td>None</td>\n    </tr>\n    <tr>\n      <th>4</th>\n      <td>104</td>\n      <td>Bruce</td>\n      <td>Ernst</td>\n      <td>BERNST</td>\n      <td>590.423.4568</td>\n      <td>1987-06-21</td>\n      <td>IT_PROG</td>\n      <td>6000</td>\n      <td>0.0</td>\n      <td>103</td>\n      <td>60</td>\n      <td>None</td>\n    </tr>\n  </tbody>\n</table>\n</div>"
     },
     "metadata": {},
     "execution_count": 33
    }
   ],
   "source": [
    "df = pd.read_sql(\"SELECT* from employees\", conn)\n",
    "df.head()\n",
    "#####Falta terminar"
   ]
  },
  {
   "cell_type": "markdown",
   "metadata": {},
   "source": [
    "+ Write a query to display the names (first_name, last_name), salary and PF (15% of salary) of all employees on the table \"employees\"  "
   ]
  },
  {
   "cell_type": "code",
   "execution_count": 37,
   "metadata": {},
   "outputs": [
    {
     "output_type": "execute_result",
     "data": {
      "text/plain": [
       "               name  salary      PF\n",
       "0       Steven King   24000  3600.0\n",
       "1     Neena Kochhar   17000  2550.0\n",
       "2       Lex De Haan   17000  2550.0\n",
       "3  Alexander Hunold    9000  1350.0\n",
       "4       Bruce Ernst    6000   900.0"
      ],
      "text/html": "<div>\n<style scoped>\n    .dataframe tbody tr th:only-of-type {\n        vertical-align: middle;\n    }\n\n    .dataframe tbody tr th {\n        vertical-align: top;\n    }\n\n    .dataframe thead th {\n        text-align: right;\n    }\n</style>\n<table border=\"1\" class=\"dataframe\">\n  <thead>\n    <tr style=\"text-align: right;\">\n      <th></th>\n      <th>name</th>\n      <th>salary</th>\n      <th>PF</th>\n    </tr>\n  </thead>\n  <tbody>\n    <tr>\n      <th>0</th>\n      <td>Steven King</td>\n      <td>24000</td>\n      <td>3600.0</td>\n    </tr>\n    <tr>\n      <th>1</th>\n      <td>Neena Kochhar</td>\n      <td>17000</td>\n      <td>2550.0</td>\n    </tr>\n    <tr>\n      <th>2</th>\n      <td>Lex De Haan</td>\n      <td>17000</td>\n      <td>2550.0</td>\n    </tr>\n    <tr>\n      <th>3</th>\n      <td>Alexander Hunold</td>\n      <td>9000</td>\n      <td>1350.0</td>\n    </tr>\n    <tr>\n      <th>4</th>\n      <td>Bruce Ernst</td>\n      <td>6000</td>\n      <td>900.0</td>\n    </tr>\n  </tbody>\n</table>\n</div>"
     },
     "metadata": {},
     "execution_count": 37
    }
   ],
   "source": [
    "df = pd.read_sql(\"Select first_name||' '||last_name as name, salary, salary*0.15 as PF from employees\",conn)\n",
    "df.head()"
   ]
  },
  {
   "cell_type": "markdown",
   "metadata": {},
   "source": [
    "+ Write a query to list the number of jobs available in the employees table."
   ]
  },
  {
   "cell_type": "code",
   "execution_count": 41,
   "metadata": {},
   "outputs": [
    {
     "output_type": "execute_result",
     "data": {
      "text/plain": [
       "   count(distinct(job_id))\n",
       "0                       19"
      ],
      "text/html": "<div>\n<style scoped>\n    .dataframe tbody tr th:only-of-type {\n        vertical-align: middle;\n    }\n\n    .dataframe tbody tr th {\n        vertical-align: top;\n    }\n\n    .dataframe thead th {\n        text-align: right;\n    }\n</style>\n<table border=\"1\" class=\"dataframe\">\n  <thead>\n    <tr style=\"text-align: right;\">\n      <th></th>\n      <th>count(distinct(job_id))</th>\n    </tr>\n  </thead>\n  <tbody>\n    <tr>\n      <th>0</th>\n      <td>19</td>\n    </tr>\n  </tbody>\n</table>\n</div>"
     },
     "metadata": {},
     "execution_count": 41
    }
   ],
   "source": [
    "df = pd.read_sql(\"Select count(distinct(job_id)) from employees\",conn)\n",
    "df.head()\n",
    "\n",
    "### Falta terminar"
   ]
  },
  {
   "cell_type": "markdown",
   "metadata": {},
   "source": [
    "+ Write a query to get the total salaries payable to employees."
   ]
  },
  {
   "cell_type": "code",
   "execution_count": 43,
   "metadata": {},
   "outputs": [
    {
     "output_type": "execute_result",
     "data": {
      "text/plain": [
       "   sum(salary)\n",
       "0       691400"
      ],
      "text/html": "<div>\n<style scoped>\n    .dataframe tbody tr th:only-of-type {\n        vertical-align: middle;\n    }\n\n    .dataframe tbody tr th {\n        vertical-align: top;\n    }\n\n    .dataframe thead th {\n        text-align: right;\n    }\n</style>\n<table border=\"1\" class=\"dataframe\">\n  <thead>\n    <tr style=\"text-align: right;\">\n      <th></th>\n      <th>sum(salary)</th>\n    </tr>\n  </thead>\n  <tbody>\n    <tr>\n      <th>0</th>\n      <td>691400</td>\n    </tr>\n  </tbody>\n</table>\n</div>"
     },
     "metadata": {},
     "execution_count": 43
    }
   ],
   "source": [
    "df = pd.read_sql(\"SELECT sum(salary) from employees\", conn)\n",
    "df.head()"
   ]
  },
  {
   "cell_type": "markdown",
   "metadata": {},
   "source": [
    "+ Write a query to get the minimum salary from employees table."
   ]
  },
  {
   "cell_type": "code",
   "execution_count": 44,
   "metadata": {},
   "outputs": [
    {
     "output_type": "execute_result",
     "data": {
      "text/plain": [
       "   min(salary)\n",
       "0         2100"
      ],
      "text/html": "<div>\n<style scoped>\n    .dataframe tbody tr th:only-of-type {\n        vertical-align: middle;\n    }\n\n    .dataframe tbody tr th {\n        vertical-align: top;\n    }\n\n    .dataframe thead th {\n        text-align: right;\n    }\n</style>\n<table border=\"1\" class=\"dataframe\">\n  <thead>\n    <tr style=\"text-align: right;\">\n      <th></th>\n      <th>min(salary)</th>\n    </tr>\n  </thead>\n  <tbody>\n    <tr>\n      <th>0</th>\n      <td>2100</td>\n    </tr>\n  </tbody>\n</table>\n</div>"
     },
     "metadata": {},
     "execution_count": 44
    }
   ],
   "source": [
    "df = pd.read_sql(\"SELECT min(salary) from employees\", conn)\n",
    "df.head()"
   ]
  },
  {
   "cell_type": "markdown",
   "metadata": {},
   "source": [
    "+ Write a query to get the maximum salary of an employee working as a Programmer."
   ]
  },
  {
   "cell_type": "code",
   "execution_count": 56,
   "metadata": {},
   "outputs": [
    {
     "output_type": "execute_result",
     "data": {
      "text/plain": [
       "   max(salary)\n",
       "0         9000"
      ],
      "text/html": "<div>\n<style scoped>\n    .dataframe tbody tr th:only-of-type {\n        vertical-align: middle;\n    }\n\n    .dataframe tbody tr th {\n        vertical-align: top;\n    }\n\n    .dataframe thead th {\n        text-align: right;\n    }\n</style>\n<table border=\"1\" class=\"dataframe\">\n  <thead>\n    <tr style=\"text-align: right;\">\n      <th></th>\n      <th>max(salary)</th>\n    </tr>\n  </thead>\n  <tbody>\n    <tr>\n      <th>0</th>\n      <td>9000</td>\n    </tr>\n  </tbody>\n</table>\n</div>"
     },
     "metadata": {},
     "execution_count": 56
    }
   ],
   "source": [
    "df = pd.read_sql(\"SELECT max(salary) from employees where job_id = 'IT_PROG'\", conn)\n",
    "df.head()"
   ]
  },
  {
   "cell_type": "markdown",
   "metadata": {},
   "source": [
    "+ Write a query to get the average salary and number of employees working the department 90."
   ]
  },
  {
   "cell_type": "code",
   "execution_count": 63,
   "metadata": {},
   "outputs": [
    {
     "output_type": "execute_result",
     "data": {
      "text/plain": [
       "   count(employee_id)   avg(salary)\n",
       "0                   3  19333.333333"
      ],
      "text/html": "<div>\n<style scoped>\n    .dataframe tbody tr th:only-of-type {\n        vertical-align: middle;\n    }\n\n    .dataframe tbody tr th {\n        vertical-align: top;\n    }\n\n    .dataframe thead th {\n        text-align: right;\n    }\n</style>\n<table border=\"1\" class=\"dataframe\">\n  <thead>\n    <tr style=\"text-align: right;\">\n      <th></th>\n      <th>count(employee_id)</th>\n      <th>avg(salary)</th>\n    </tr>\n  </thead>\n  <tbody>\n    <tr>\n      <th>0</th>\n      <td>3</td>\n      <td>19333.333333</td>\n    </tr>\n  </tbody>\n</table>\n</div>"
     },
     "metadata": {},
     "execution_count": 63
    }
   ],
   "source": [
    "df = pd.read_sql(\"SELECT count(employee_id), avg(salary) from employees WHERE department_id=90 GROUP BY department_id\", conn)\n",
    "df.head()"
   ]
  },
  {
   "cell_type": "markdown",
   "metadata": {},
   "source": [
    "+ Write a query to get the highest, lowest, sum, and average salary of all employees."
   ]
  },
  {
   "cell_type": "code",
   "execution_count": 64,
   "metadata": {},
   "outputs": [
    {
     "output_type": "execute_result",
     "data": {
      "text/plain": [
       "   max(salary)  min(salary)  sum(salary)  avg(salary)\n",
       "0        24000         2100       691400  6461.682243"
      ],
      "text/html": "<div>\n<style scoped>\n    .dataframe tbody tr th:only-of-type {\n        vertical-align: middle;\n    }\n\n    .dataframe tbody tr th {\n        vertical-align: top;\n    }\n\n    .dataframe thead th {\n        text-align: right;\n    }\n</style>\n<table border=\"1\" class=\"dataframe\">\n  <thead>\n    <tr style=\"text-align: right;\">\n      <th></th>\n      <th>max(salary)</th>\n      <th>min(salary)</th>\n      <th>sum(salary)</th>\n      <th>avg(salary)</th>\n    </tr>\n  </thead>\n  <tbody>\n    <tr>\n      <th>0</th>\n      <td>24000</td>\n      <td>2100</td>\n      <td>691400</td>\n      <td>6461.682243</td>\n    </tr>\n  </tbody>\n</table>\n</div>"
     },
     "metadata": {},
     "execution_count": 64
    }
   ],
   "source": [
    "df = pd.read_sql(\"SELECT max(salary), min(salary), sum(salary), avg(salary) from employees\", conn)\n",
    "df.head()"
   ]
  },
  {
   "cell_type": "markdown",
   "metadata": {},
   "source": [
    "+ Write a query to get the number of employees with the same job."
   ]
  },
  {
   "cell_type": "code",
   "execution_count": 66,
   "metadata": {},
   "outputs": [
    {
     "output_type": "execute_result",
     "data": {
      "text/plain": [
       "   count(job_id)\n",
       "0              1\n",
       "1              1\n",
       "2              1\n",
       "3              1\n",
       "4              2"
      ],
      "text/html": "<div>\n<style scoped>\n    .dataframe tbody tr th:only-of-type {\n        vertical-align: middle;\n    }\n\n    .dataframe tbody tr th {\n        vertical-align: top;\n    }\n\n    .dataframe thead th {\n        text-align: right;\n    }\n</style>\n<table border=\"1\" class=\"dataframe\">\n  <thead>\n    <tr style=\"text-align: right;\">\n      <th></th>\n      <th>count(job_id)</th>\n    </tr>\n  </thead>\n  <tbody>\n    <tr>\n      <th>0</th>\n      <td>1</td>\n    </tr>\n    <tr>\n      <th>1</th>\n      <td>1</td>\n    </tr>\n    <tr>\n      <th>2</th>\n      <td>1</td>\n    </tr>\n    <tr>\n      <th>3</th>\n      <td>1</td>\n    </tr>\n    <tr>\n      <th>4</th>\n      <td>2</td>\n    </tr>\n  </tbody>\n</table>\n</div>"
     },
     "metadata": {},
     "execution_count": 66
    }
   ],
   "source": [
    "df = pd.read_sql(\"SELECT count(job_id) from employees GROUP BY job_id\", conn)\n",
    "df.head()\n",
    "#######################Falta revisar"
   ]
  },
  {
   "cell_type": "markdown",
   "metadata": {},
   "source": [
    "+ Write a query to get the difference between the highest and lowest salaries."
   ]
  },
  {
   "cell_type": "code",
   "execution_count": 69,
   "metadata": {},
   "outputs": [
    {
     "output_type": "execute_result",
     "data": {
      "text/plain": [
       "   max(salary)-min(salary)\n",
       "0                    21900"
      ],
      "text/html": "<div>\n<style scoped>\n    .dataframe tbody tr th:only-of-type {\n        vertical-align: middle;\n    }\n\n    .dataframe tbody tr th {\n        vertical-align: top;\n    }\n\n    .dataframe thead th {\n        text-align: right;\n    }\n</style>\n<table border=\"1\" class=\"dataframe\">\n  <thead>\n    <tr style=\"text-align: right;\">\n      <th></th>\n      <th>max(salary)-min(salary)</th>\n    </tr>\n  </thead>\n  <tbody>\n    <tr>\n      <th>0</th>\n      <td>21900</td>\n    </tr>\n  </tbody>\n</table>\n</div>"
     },
     "metadata": {},
     "execution_count": 69
    }
   ],
   "source": [
    "df = pd.read_sql(\"SELECT max(salary)-min(salary) from employees\", conn)\n",
    "df.head()"
   ]
  },
  {
   "cell_type": "markdown",
   "metadata": {},
   "source": [
    "+ Write a query to find the manager ID and the salary of the lowest-paid employee for that manager."
   ]
  },
  {
   "cell_type": "code",
   "execution_count": 74,
   "metadata": {},
   "outputs": [
    {
     "output_type": "execute_result",
     "data": {
      "text/plain": [
       "   manager_id  min(salary)\n",
       "0           0        24000\n",
       "1         100         5800\n",
       "2         101         4400\n",
       "3         102         9000\n",
       "4         103         4200"
      ],
      "text/html": "<div>\n<style scoped>\n    .dataframe tbody tr th:only-of-type {\n        vertical-align: middle;\n    }\n\n    .dataframe tbody tr th {\n        vertical-align: top;\n    }\n\n    .dataframe thead th {\n        text-align: right;\n    }\n</style>\n<table border=\"1\" class=\"dataframe\">\n  <thead>\n    <tr style=\"text-align: right;\">\n      <th></th>\n      <th>manager_id</th>\n      <th>min(salary)</th>\n    </tr>\n  </thead>\n  <tbody>\n    <tr>\n      <th>0</th>\n      <td>0</td>\n      <td>24000</td>\n    </tr>\n    <tr>\n      <th>1</th>\n      <td>100</td>\n      <td>5800</td>\n    </tr>\n    <tr>\n      <th>2</th>\n      <td>101</td>\n      <td>4400</td>\n    </tr>\n    <tr>\n      <th>3</th>\n      <td>102</td>\n      <td>9000</td>\n    </tr>\n    <tr>\n      <th>4</th>\n      <td>103</td>\n      <td>4200</td>\n    </tr>\n  </tbody>\n</table>\n</div>"
     },
     "metadata": {},
     "execution_count": 74
    }
   ],
   "source": [
    "df = pd.read_sql(\"SELECT manager_id, min(salary) from employees group by manager_id\", conn)\n",
    "df.head()"
   ]
  },
  {
   "cell_type": "markdown",
   "metadata": {},
   "source": [
    "+ Write a query to get the department ID and the total salary payable in each department."
   ]
  },
  {
   "cell_type": "code",
   "execution_count": 78,
   "metadata": {},
   "outputs": [
    {
     "output_type": "execute_result",
     "data": {
      "text/plain": [
       "   department_id  sum(salary)\n",
       "0              0         7000\n",
       "1             10         4400\n",
       "2             20        19000\n",
       "3             30        24900\n",
       "4             40         6500"
      ],
      "text/html": "<div>\n<style scoped>\n    .dataframe tbody tr th:only-of-type {\n        vertical-align: middle;\n    }\n\n    .dataframe tbody tr th {\n        vertical-align: top;\n    }\n\n    .dataframe thead th {\n        text-align: right;\n    }\n</style>\n<table border=\"1\" class=\"dataframe\">\n  <thead>\n    <tr style=\"text-align: right;\">\n      <th></th>\n      <th>department_id</th>\n      <th>sum(salary)</th>\n    </tr>\n  </thead>\n  <tbody>\n    <tr>\n      <th>0</th>\n      <td>0</td>\n      <td>7000</td>\n    </tr>\n    <tr>\n      <th>1</th>\n      <td>10</td>\n      <td>4400</td>\n    </tr>\n    <tr>\n      <th>2</th>\n      <td>20</td>\n      <td>19000</td>\n    </tr>\n    <tr>\n      <th>3</th>\n      <td>30</td>\n      <td>24900</td>\n    </tr>\n    <tr>\n      <th>4</th>\n      <td>40</td>\n      <td>6500</td>\n    </tr>\n  </tbody>\n</table>\n</div>"
     },
     "metadata": {},
     "execution_count": 78
    }
   ],
   "source": [
    "df = pd.read_sql(\"SELECt department_id, sum(salary) from employees group by department_id\", conn)\n",
    "df.head()"
   ]
  },
  {
   "cell_type": "markdown",
   "metadata": {},
   "source": [
    "+ Write a query to get the average salary for each job ID excluding programmer."
   ]
  },
  {
   "cell_type": "code",
   "execution_count": 81,
   "metadata": {},
   "outputs": [
    {
     "output_type": "execute_result",
     "data": {
      "text/plain": [
       "       job_id  avg(salary)\n",
       "0  AC_ACCOUNT       8300.0\n",
       "1      AC_MGR      12000.0\n",
       "2     AD_ASST       4400.0\n",
       "3     AD_PRES      24000.0\n",
       "4       AD_VP      17000.0"
      ],
      "text/html": "<div>\n<style scoped>\n    .dataframe tbody tr th:only-of-type {\n        vertical-align: middle;\n    }\n\n    .dataframe tbody tr th {\n        vertical-align: top;\n    }\n\n    .dataframe thead th {\n        text-align: right;\n    }\n</style>\n<table border=\"1\" class=\"dataframe\">\n  <thead>\n    <tr style=\"text-align: right;\">\n      <th></th>\n      <th>job_id</th>\n      <th>avg(salary)</th>\n    </tr>\n  </thead>\n  <tbody>\n    <tr>\n      <th>0</th>\n      <td>AC_ACCOUNT</td>\n      <td>8300.0</td>\n    </tr>\n    <tr>\n      <th>1</th>\n      <td>AC_MGR</td>\n      <td>12000.0</td>\n    </tr>\n    <tr>\n      <th>2</th>\n      <td>AD_ASST</td>\n      <td>4400.0</td>\n    </tr>\n    <tr>\n      <th>3</th>\n      <td>AD_PRES</td>\n      <td>24000.0</td>\n    </tr>\n    <tr>\n      <th>4</th>\n      <td>AD_VP</td>\n      <td>17000.0</td>\n    </tr>\n  </tbody>\n</table>\n</div>"
     },
     "metadata": {},
     "execution_count": 81
    }
   ],
   "source": [
    "df = pd.read_sql(\"SELECT job_id, avg(salary) from employees where job_id != 'IT_PROG' group by job_id\", conn)\n",
    "df.head()\n"
   ]
  },
  {
   "cell_type": "markdown",
   "metadata": {},
   "source": [
    "+ Write a query to get the total salary, maximum, minimum, average salary of employees (job ID wise), for department ID 90 only."
   ]
  },
  {
   "cell_type": "code",
   "execution_count": 82,
   "metadata": {},
   "outputs": [
    {
     "output_type": "execute_result",
     "data": {
      "text/plain": [
       "   salary  max(salary)  min(salary)   avg(salary)\n",
       "0   17000        24000        17000  19333.333333"
      ],
      "text/html": "<div>\n<style scoped>\n    .dataframe tbody tr th:only-of-type {\n        vertical-align: middle;\n    }\n\n    .dataframe tbody tr th {\n        vertical-align: top;\n    }\n\n    .dataframe thead th {\n        text-align: right;\n    }\n</style>\n<table border=\"1\" class=\"dataframe\">\n  <thead>\n    <tr style=\"text-align: right;\">\n      <th></th>\n      <th>salary</th>\n      <th>max(salary)</th>\n      <th>min(salary)</th>\n      <th>avg(salary)</th>\n    </tr>\n  </thead>\n  <tbody>\n    <tr>\n      <th>0</th>\n      <td>17000</td>\n      <td>24000</td>\n      <td>17000</td>\n      <td>19333.333333</td>\n    </tr>\n  </tbody>\n</table>\n</div>"
     },
     "metadata": {},
     "execution_count": 82
    }
   ],
   "source": [
    "df = pd.read_sql(\"SELECT salary, max(salary), min(salary), avg(salary) from employees where department_id=90 \", conn)\n",
    "df.head()\n",
    "###### job_id wise"
   ]
  },
  {
   "cell_type": "markdown",
   "metadata": {},
   "source": [
    "+ Write a query to get the job ID and maximum salary of the employees where maximum salary is greater than or equal to $4000. "
   ]
  },
  {
   "cell_type": "code",
   "execution_count": 92,
   "metadata": {},
   "outputs": [
    {
     "output_type": "execute_result",
     "data": {
      "text/plain": [
       "       job_id  max(salary)\n",
       "0  AC_ACCOUNT         8300\n",
       "1      AC_MGR        12000\n",
       "2     AD_ASST         4400\n",
       "3     AD_PRES        24000\n",
       "4       AD_VP        17000"
      ],
      "text/html": "<div>\n<style scoped>\n    .dataframe tbody tr th:only-of-type {\n        vertical-align: middle;\n    }\n\n    .dataframe tbody tr th {\n        vertical-align: top;\n    }\n\n    .dataframe thead th {\n        text-align: right;\n    }\n</style>\n<table border=\"1\" class=\"dataframe\">\n  <thead>\n    <tr style=\"text-align: right;\">\n      <th></th>\n      <th>job_id</th>\n      <th>max(salary)</th>\n    </tr>\n  </thead>\n  <tbody>\n    <tr>\n      <th>0</th>\n      <td>AC_ACCOUNT</td>\n      <td>8300</td>\n    </tr>\n    <tr>\n      <th>1</th>\n      <td>AC_MGR</td>\n      <td>12000</td>\n    </tr>\n    <tr>\n      <th>2</th>\n      <td>AD_ASST</td>\n      <td>4400</td>\n    </tr>\n    <tr>\n      <th>3</th>\n      <td>AD_PRES</td>\n      <td>24000</td>\n    </tr>\n    <tr>\n      <th>4</th>\n      <td>AD_VP</td>\n      <td>17000</td>\n    </tr>\n  </tbody>\n</table>\n</div>"
     },
     "metadata": {},
     "execution_count": 92
    }
   ],
   "source": [
    "df = pd.read_sql(\"SELECT job_id, max(salary) from employees where salary > 4000 group by job_id \", conn)\n",
    "df.head()\n",
    "######## REVISAR"
   ]
  },
  {
   "cell_type": "markdown",
   "metadata": {},
   "source": [
    "+ Write a query to get the average salary for all departments employing more than 10 employees."
   ]
  },
  {
   "cell_type": "code",
   "execution_count": 114,
   "metadata": {},
   "outputs": [
    {
     "output_type": "execute_result",
     "data": {
      "text/plain": [
       "   avg(salary)  department_id\n",
       "0       7000.0              0\n",
       "1       4400.0             10\n",
       "2       9500.0             20\n",
       "3       4150.0             30\n",
       "4       6500.0             40"
      ],
      "text/html": "<div>\n<style scoped>\n    .dataframe tbody tr th:only-of-type {\n        vertical-align: middle;\n    }\n\n    .dataframe tbody tr th {\n        vertical-align: top;\n    }\n\n    .dataframe thead th {\n        text-align: right;\n    }\n</style>\n<table border=\"1\" class=\"dataframe\">\n  <thead>\n    <tr style=\"text-align: right;\">\n      <th></th>\n      <th>avg(salary)</th>\n      <th>department_id</th>\n    </tr>\n  </thead>\n  <tbody>\n    <tr>\n      <th>0</th>\n      <td>7000.0</td>\n      <td>0</td>\n    </tr>\n    <tr>\n      <th>1</th>\n      <td>4400.0</td>\n      <td>10</td>\n    </tr>\n    <tr>\n      <th>2</th>\n      <td>9500.0</td>\n      <td>20</td>\n    </tr>\n    <tr>\n      <th>3</th>\n      <td>4150.0</td>\n      <td>30</td>\n    </tr>\n    <tr>\n      <th>4</th>\n      <td>6500.0</td>\n      <td>40</td>\n    </tr>\n  </tbody>\n</table>\n</div>"
     },
     "metadata": {},
     "execution_count": 114
    }
   ],
   "source": [
    "df = pd.read_sql(\"SELECT avg(salary), department_id from employees where(SELECT count(job_id) from employees)>10 group by department_id\", conn)\n",
    "df.head()\n",
    "########## REVISAR"
   ]
  },
  {
   "cell_type": "markdown",
   "metadata": {},
   "source": [
    "+ Write a query to find the names (first_name, last_name) and salaries of the employees who have a higher salary than the employee whose last_name='Bull'."
   ]
  },
  {
   "cell_type": "code",
   "execution_count": 124,
   "metadata": {},
   "outputs": [
    {
     "output_type": "execute_result",
     "data": {
      "text/plain": [
       "               name  department_id\n",
       "0       Steven King          24000\n",
       "1     Neena Kochhar          17000\n",
       "2       Lex De Haan          17000\n",
       "3  Alexander Hunold           9000\n",
       "4       Bruce Ernst           6000"
      ],
      "text/html": "<div>\n<style scoped>\n    .dataframe tbody tr th:only-of-type {\n        vertical-align: middle;\n    }\n\n    .dataframe tbody tr th {\n        vertical-align: top;\n    }\n\n    .dataframe thead th {\n        text-align: right;\n    }\n</style>\n<table border=\"1\" class=\"dataframe\">\n  <thead>\n    <tr style=\"text-align: right;\">\n      <th></th>\n      <th>name</th>\n      <th>department_id</th>\n    </tr>\n  </thead>\n  <tbody>\n    <tr>\n      <th>0</th>\n      <td>Steven King</td>\n      <td>24000</td>\n    </tr>\n    <tr>\n      <th>1</th>\n      <td>Neena Kochhar</td>\n      <td>17000</td>\n    </tr>\n    <tr>\n      <th>2</th>\n      <td>Lex De Haan</td>\n      <td>17000</td>\n    </tr>\n    <tr>\n      <th>3</th>\n      <td>Alexander Hunold</td>\n      <td>9000</td>\n    </tr>\n    <tr>\n      <th>4</th>\n      <td>Bruce Ernst</td>\n      <td>6000</td>\n    </tr>\n  </tbody>\n</table>\n</div>"
     },
     "metadata": {},
     "execution_count": 124
    }
   ],
   "source": [
    "df = pd.read_sql(\"SELECT first_name||' '||last_name as name, salary department_id from employees where salary>(select salary from employees where last_name='Bull')\", conn)\n",
    "df.head()"
   ]
  },
  {
   "cell_type": "markdown",
   "metadata": {},
   "source": [
    "+ Write a query to find the names (first_name, last_name) of all employees who works in the IT department."
   ]
  },
  {
   "cell_type": "code",
   "execution_count": 136,
   "metadata": {},
   "outputs": [
    {
     "output_type": "execute_result",
     "data": {
      "text/plain": [
       "               name department_name\n",
       "0  Alexander Hunold              IT\n",
       "1       Bruce Ernst              IT\n",
       "2      David Austin              IT\n",
       "3     Diana Lorentz              IT\n",
       "4   Valli Pataballa              IT"
      ],
      "text/html": "<div>\n<style scoped>\n    .dataframe tbody tr th:only-of-type {\n        vertical-align: middle;\n    }\n\n    .dataframe tbody tr th {\n        vertical-align: top;\n    }\n\n    .dataframe thead th {\n        text-align: right;\n    }\n</style>\n<table border=\"1\" class=\"dataframe\">\n  <thead>\n    <tr style=\"text-align: right;\">\n      <th></th>\n      <th>name</th>\n      <th>department_name</th>\n    </tr>\n  </thead>\n  <tbody>\n    <tr>\n      <th>0</th>\n      <td>Alexander Hunold</td>\n      <td>IT</td>\n    </tr>\n    <tr>\n      <th>1</th>\n      <td>Bruce Ernst</td>\n      <td>IT</td>\n    </tr>\n    <tr>\n      <th>2</th>\n      <td>David Austin</td>\n      <td>IT</td>\n    </tr>\n    <tr>\n      <th>3</th>\n      <td>Diana Lorentz</td>\n      <td>IT</td>\n    </tr>\n    <tr>\n      <th>4</th>\n      <td>Valli Pataballa</td>\n      <td>IT</td>\n    </tr>\n  </tbody>\n</table>\n</div>"
     },
     "metadata": {},
     "execution_count": 136
    }
   ],
   "source": [
    "df = pd.read_sql(\"\"\"SELECT e.first_name||' '||e.last_name as name, d.department_name\n",
    "from employees as e\n",
    "INNER JOIN department as d\n",
    "ON d.department_id = e.department_id\n",
    "where d.department_name='IT' \"\"\", conn)\n",
    "\n",
    "df.head()"
   ]
  },
  {
   "cell_type": "markdown",
   "metadata": {},
   "source": [
    "+ Write a query to find the names (first_name, last_name) of the employees who have a manager who works for a department based in the United States. Hint : Write single-row and multiple-row subqueries"
   ]
  },
  {
   "cell_type": "code",
   "execution_count": 24,
   "metadata": {},
   "outputs": [
    {
     "output_type": "execute_result",
     "data": {
      "text/plain": [
       "             name country_id\n",
       "0         Pat Fay         US\n",
       "1         Pat Fay         US\n",
       "2         Pat Fay         US\n",
       "3         Pat Fay         US\n",
       "4  Alexander Khoo         US"
      ],
      "text/html": "<div>\n<style scoped>\n    .dataframe tbody tr th:only-of-type {\n        vertical-align: middle;\n    }\n\n    .dataframe tbody tr th {\n        vertical-align: top;\n    }\n\n    .dataframe thead th {\n        text-align: right;\n    }\n</style>\n<table border=\"1\" class=\"dataframe\">\n  <thead>\n    <tr style=\"text-align: right;\">\n      <th></th>\n      <th>name</th>\n      <th>country_id</th>\n    </tr>\n  </thead>\n  <tbody>\n    <tr>\n      <th>0</th>\n      <td>Pat Fay</td>\n      <td>US</td>\n    </tr>\n    <tr>\n      <th>1</th>\n      <td>Pat Fay</td>\n      <td>US</td>\n    </tr>\n    <tr>\n      <th>2</th>\n      <td>Pat Fay</td>\n      <td>US</td>\n    </tr>\n    <tr>\n      <th>3</th>\n      <td>Pat Fay</td>\n      <td>US</td>\n    </tr>\n    <tr>\n      <th>4</th>\n      <td>Alexander Khoo</td>\n      <td>US</td>\n    </tr>\n  </tbody>\n</table>\n</div>"
     },
     "metadata": {},
     "execution_count": 24
    }
   ],
   "source": [
    "#df= pd.read_sql(\"\"\"\n",
    "#create view full_loc as\n",
    "#select * \n",
    "#from department as d\n",
    "#inner join locations as l\n",
    "#on l.location_id = l.location_id\n",
    "#where country_id = 'US'\n",
    "#\"\"\", conn)\n",
    "\n",
    "df = pd.read_sql(\"\"\" \n",
    "SELECT e.first_name||' '||e.last_name as name, l.country_id\n",
    "from employees as e\n",
    "inner join full_loc as l\n",
    "using(manager_id)\n",
    "where l.country_id='US'\n",
    "\"\"\",conn)\n",
    "df.head()"
   ]
  },
  {
   "cell_type": "markdown",
   "metadata": {},
   "source": [
    "+ Write a query to find the names (first_name, last_name) of the employees who are managers. "
   ]
  },
  {
   "cell_type": "code",
   "execution_count": 50,
   "metadata": {},
   "outputs": [
    {
     "output_type": "execute_result",
     "data": {
      "text/plain": [
       "                 name\n",
       "0         Steven King\n",
       "1       Neena Kochhar\n",
       "2         Lex De Haan\n",
       "3    Alexander Hunold\n",
       "4     Nancy Greenberg\n",
       "5        Den Raphaely\n",
       "6       Matthew Weiss\n",
       "7          Adam Fripp\n",
       "8      Payam Kaufling\n",
       "9      Shanta Vollman\n",
       "10      Kevin Mourgos\n",
       "11       John Russell\n",
       "12     Karen Partners\n",
       "13  Alberto Errazuriz\n",
       "14   Gerald Cambrault\n",
       "15      Eleni Zlotkey\n",
       "16  Michael Hartstein\n",
       "17    Shelley Higgins"
      ],
      "text/html": "<div>\n<style scoped>\n    .dataframe tbody tr th:only-of-type {\n        vertical-align: middle;\n    }\n\n    .dataframe tbody tr th {\n        vertical-align: top;\n    }\n\n    .dataframe thead th {\n        text-align: right;\n    }\n</style>\n<table border=\"1\" class=\"dataframe\">\n  <thead>\n    <tr style=\"text-align: right;\">\n      <th></th>\n      <th>name</th>\n    </tr>\n  </thead>\n  <tbody>\n    <tr>\n      <th>0</th>\n      <td>Steven King</td>\n    </tr>\n    <tr>\n      <th>1</th>\n      <td>Neena Kochhar</td>\n    </tr>\n    <tr>\n      <th>2</th>\n      <td>Lex De Haan</td>\n    </tr>\n    <tr>\n      <th>3</th>\n      <td>Alexander Hunold</td>\n    </tr>\n    <tr>\n      <th>4</th>\n      <td>Nancy Greenberg</td>\n    </tr>\n    <tr>\n      <th>5</th>\n      <td>Den Raphaely</td>\n    </tr>\n    <tr>\n      <th>6</th>\n      <td>Matthew Weiss</td>\n    </tr>\n    <tr>\n      <th>7</th>\n      <td>Adam Fripp</td>\n    </tr>\n    <tr>\n      <th>8</th>\n      <td>Payam Kaufling</td>\n    </tr>\n    <tr>\n      <th>9</th>\n      <td>Shanta Vollman</td>\n    </tr>\n    <tr>\n      <th>10</th>\n      <td>Kevin Mourgos</td>\n    </tr>\n    <tr>\n      <th>11</th>\n      <td>John Russell</td>\n    </tr>\n    <tr>\n      <th>12</th>\n      <td>Karen Partners</td>\n    </tr>\n    <tr>\n      <th>13</th>\n      <td>Alberto Errazuriz</td>\n    </tr>\n    <tr>\n      <th>14</th>\n      <td>Gerald Cambrault</td>\n    </tr>\n    <tr>\n      <th>15</th>\n      <td>Eleni Zlotkey</td>\n    </tr>\n    <tr>\n      <th>16</th>\n      <td>Michael Hartstein</td>\n    </tr>\n    <tr>\n      <th>17</th>\n      <td>Shelley Higgins</td>\n    </tr>\n  </tbody>\n</table>\n</div>"
     },
     "metadata": {},
     "execution_count": 50
    }
   ],
   "source": [
    "df = pd.read_sql(\"\"\"\n",
    "select first_name||' '|| last_name as name\n",
    "from employees as e\n",
    "where employee_id \n",
    "in (select manager_id from employees)\n",
    "\"\"\",conn)\n",
    "df.head(30)"
   ]
  },
  {
   "cell_type": "markdown",
   "metadata": {},
   "source": [
    "+ Write a query to find the names (first_name, last_name), the salary of the employees whose salary is greater than the average salary."
   ]
  },
  {
   "cell_type": "code",
   "execution_count": 55,
   "metadata": {},
   "outputs": [
    {
     "output_type": "execute_result",
     "data": {
      "text/plain": [
       "               name  salary\n",
       "0       Steven King   24000\n",
       "1     Neena Kochhar   17000\n",
       "2       Lex De Haan   17000\n",
       "3  Alexander Hunold    9000\n",
       "4   Nancy Greenberg   12000"
      ],
      "text/html": "<div>\n<style scoped>\n    .dataframe tbody tr th:only-of-type {\n        vertical-align: middle;\n    }\n\n    .dataframe tbody tr th {\n        vertical-align: top;\n    }\n\n    .dataframe thead th {\n        text-align: right;\n    }\n</style>\n<table border=\"1\" class=\"dataframe\">\n  <thead>\n    <tr style=\"text-align: right;\">\n      <th></th>\n      <th>name</th>\n      <th>salary</th>\n    </tr>\n  </thead>\n  <tbody>\n    <tr>\n      <th>0</th>\n      <td>Steven King</td>\n      <td>24000</td>\n    </tr>\n    <tr>\n      <th>1</th>\n      <td>Neena Kochhar</td>\n      <td>17000</td>\n    </tr>\n    <tr>\n      <th>2</th>\n      <td>Lex De Haan</td>\n      <td>17000</td>\n    </tr>\n    <tr>\n      <th>3</th>\n      <td>Alexander Hunold</td>\n      <td>9000</td>\n    </tr>\n    <tr>\n      <th>4</th>\n      <td>Nancy Greenberg</td>\n      <td>12000</td>\n    </tr>\n  </tbody>\n</table>\n</div>"
     },
     "metadata": {},
     "execution_count": 55
    }
   ],
   "source": [
    "df= pd.read_sql(\"\"\"\n",
    "select first_name||' '|| last_name as name, salary\n",
    "from employees\n",
    "where\n",
    "salary > (select avg(salary) from employees)\n",
    "\"\"\",conn)\n",
    "df.head()"
   ]
  },
  {
   "cell_type": "markdown",
   "metadata": {},
   "source": [
    "+ Write a query to find the names (first_name, last_name), the salary of the employees whose salary is equal to the minimum salary for their job grade."
   ]
  },
  {
   "cell_type": "code",
   "execution_count": 71,
   "metadata": {},
   "outputs": [
    {
     "output_type": "execute_result",
     "data": {
      "text/plain": [
       "   employee_id first_name   last_name     email  phone_number   hire_date  \\\n",
       "0          100     Steven        King     SKING  515.123.4567  1987-06-17   \n",
       "1          101      Neena     Kochhar  NKOCHHAR  515.123.4568  1987-06-18   \n",
       "2          102        Lex     De Haan   LDEHAAN  515.123.4569  1987-06-19   \n",
       "3          107      Diana     Lorentz  DLORENTZ  590.423.5567  1987-06-24   \n",
       "4          108      Nancy   Greenberg  NGREENBE  515.124.4569  1987-06-25   \n",
       "5          113       Luis        Popp     LPOPP  515.124.4567  1987-06-30   \n",
       "6          114        Den    Raphaely  DRAPHEAL  515.127.4561  1987-07-01   \n",
       "7          119      Karen  Colmenares  KCOLMENA  515.127.4566  1987-07-06   \n",
       "8          124      Kevin     Mourgos  KMOURGOS  650.123.5234  1987-07-11   \n",
       "9          132         TJ       Olson   TJOLSON  650.124.8234  1987-07-19   \n",
       "\n",
       "       job_id  salary  commission_pct  manager_id  department_id Avg_Salary  \n",
       "0     AD_PRES   24000             0.0           0             90       None  \n",
       "1       AD_VP   17000             0.0         100             90       None  \n",
       "2       AD_VP   17000             0.0         100             90       None  \n",
       "3     IT_PROG    4200             0.0         103             60       None  \n",
       "4      FI_MGR   12000             0.0         101            100       None  \n",
       "5  FI_ACCOUNT    6900             0.0         108            100       None  \n",
       "6      PU_MAN   11000             0.0         100             30       None  \n",
       "7    PU_CLERK    2500             0.0         114             30       None  \n",
       "8      ST_MAN    5800             0.0         100             50       None  \n",
       "9    ST_CLERK    2100             0.0         121             50       None  "
      ],
      "text/html": "<div>\n<style scoped>\n    .dataframe tbody tr th:only-of-type {\n        vertical-align: middle;\n    }\n\n    .dataframe tbody tr th {\n        vertical-align: top;\n    }\n\n    .dataframe thead th {\n        text-align: right;\n    }\n</style>\n<table border=\"1\" class=\"dataframe\">\n  <thead>\n    <tr style=\"text-align: right;\">\n      <th></th>\n      <th>employee_id</th>\n      <th>first_name</th>\n      <th>last_name</th>\n      <th>email</th>\n      <th>phone_number</th>\n      <th>hire_date</th>\n      <th>job_id</th>\n      <th>salary</th>\n      <th>commission_pct</th>\n      <th>manager_id</th>\n      <th>department_id</th>\n      <th>Avg_Salary</th>\n    </tr>\n  </thead>\n  <tbody>\n    <tr>\n      <th>0</th>\n      <td>100</td>\n      <td>Steven</td>\n      <td>King</td>\n      <td>SKING</td>\n      <td>515.123.4567</td>\n      <td>1987-06-17</td>\n      <td>AD_PRES</td>\n      <td>24000</td>\n      <td>0.0</td>\n      <td>0</td>\n      <td>90</td>\n      <td>None</td>\n    </tr>\n    <tr>\n      <th>1</th>\n      <td>101</td>\n      <td>Neena</td>\n      <td>Kochhar</td>\n      <td>NKOCHHAR</td>\n      <td>515.123.4568</td>\n      <td>1987-06-18</td>\n      <td>AD_VP</td>\n      <td>17000</td>\n      <td>0.0</td>\n      <td>100</td>\n      <td>90</td>\n      <td>None</td>\n    </tr>\n    <tr>\n      <th>2</th>\n      <td>102</td>\n      <td>Lex</td>\n      <td>De Haan</td>\n      <td>LDEHAAN</td>\n      <td>515.123.4569</td>\n      <td>1987-06-19</td>\n      <td>AD_VP</td>\n      <td>17000</td>\n      <td>0.0</td>\n      <td>100</td>\n      <td>90</td>\n      <td>None</td>\n    </tr>\n    <tr>\n      <th>3</th>\n      <td>107</td>\n      <td>Diana</td>\n      <td>Lorentz</td>\n      <td>DLORENTZ</td>\n      <td>590.423.5567</td>\n      <td>1987-06-24</td>\n      <td>IT_PROG</td>\n      <td>4200</td>\n      <td>0.0</td>\n      <td>103</td>\n      <td>60</td>\n      <td>None</td>\n    </tr>\n    <tr>\n      <th>4</th>\n      <td>108</td>\n      <td>Nancy</td>\n      <td>Greenberg</td>\n      <td>NGREENBE</td>\n      <td>515.124.4569</td>\n      <td>1987-06-25</td>\n      <td>FI_MGR</td>\n      <td>12000</td>\n      <td>0.0</td>\n      <td>101</td>\n      <td>100</td>\n      <td>None</td>\n    </tr>\n    <tr>\n      <th>5</th>\n      <td>113</td>\n      <td>Luis</td>\n      <td>Popp</td>\n      <td>LPOPP</td>\n      <td>515.124.4567</td>\n      <td>1987-06-30</td>\n      <td>FI_ACCOUNT</td>\n      <td>6900</td>\n      <td>0.0</td>\n      <td>108</td>\n      <td>100</td>\n      <td>None</td>\n    </tr>\n    <tr>\n      <th>6</th>\n      <td>114</td>\n      <td>Den</td>\n      <td>Raphaely</td>\n      <td>DRAPHEAL</td>\n      <td>515.127.4561</td>\n      <td>1987-07-01</td>\n      <td>PU_MAN</td>\n      <td>11000</td>\n      <td>0.0</td>\n      <td>100</td>\n      <td>30</td>\n      <td>None</td>\n    </tr>\n    <tr>\n      <th>7</th>\n      <td>119</td>\n      <td>Karen</td>\n      <td>Colmenares</td>\n      <td>KCOLMENA</td>\n      <td>515.127.4566</td>\n      <td>1987-07-06</td>\n      <td>PU_CLERK</td>\n      <td>2500</td>\n      <td>0.0</td>\n      <td>114</td>\n      <td>30</td>\n      <td>None</td>\n    </tr>\n    <tr>\n      <th>8</th>\n      <td>124</td>\n      <td>Kevin</td>\n      <td>Mourgos</td>\n      <td>KMOURGOS</td>\n      <td>650.123.5234</td>\n      <td>1987-07-11</td>\n      <td>ST_MAN</td>\n      <td>5800</td>\n      <td>0.0</td>\n      <td>100</td>\n      <td>50</td>\n      <td>None</td>\n    </tr>\n    <tr>\n      <th>9</th>\n      <td>132</td>\n      <td>TJ</td>\n      <td>Olson</td>\n      <td>TJOLSON</td>\n      <td>650.124.8234</td>\n      <td>1987-07-19</td>\n      <td>ST_CLERK</td>\n      <td>2100</td>\n      <td>0.0</td>\n      <td>121</td>\n      <td>50</td>\n      <td>None</td>\n    </tr>\n  </tbody>\n</table>\n</div>"
     },
     "metadata": {},
     "execution_count": 71
    }
   ],
   "source": [
    "df= pd.read_sql(\"\"\"\n",
    "select *\n",
    "from employees\n",
    "where (salary, job_id) in (select min(salary),job_id from employees group by job_id)\n",
    "\"\"\",conn)\n",
    "df.head(10)\n",
    "##Falta revisar"
   ]
  },
  {
   "cell_type": "markdown",
   "metadata": {},
   "source": [
    "+ Write a query to find the names (first_name, last_name), the salary of the employees who earn more than the average salary and who works in any of the IT departments."
   ]
  },
  {
   "cell_type": "code",
   "execution_count": 88,
   "metadata": {},
   "outputs": [
    {
     "output_type": "execute_result",
     "data": {
      "text/plain": [
       "               name  salary department_name\n",
       "0  Alexander Hunold    9000              IT"
      ],
      "text/html": "<div>\n<style scoped>\n    .dataframe tbody tr th:only-of-type {\n        vertical-align: middle;\n    }\n\n    .dataframe tbody tr th {\n        vertical-align: top;\n    }\n\n    .dataframe thead th {\n        text-align: right;\n    }\n</style>\n<table border=\"1\" class=\"dataframe\">\n  <thead>\n    <tr style=\"text-align: right;\">\n      <th></th>\n      <th>name</th>\n      <th>salary</th>\n      <th>department_name</th>\n    </tr>\n  </thead>\n  <tbody>\n    <tr>\n      <th>0</th>\n      <td>Alexander Hunold</td>\n      <td>9000</td>\n      <td>IT</td>\n    </tr>\n  </tbody>\n</table>\n</div>"
     },
     "metadata": {},
     "execution_count": 88
    }
   ],
   "source": [
    "df= pd.read_sql(\"\"\"\n",
    "select e.first_name||' '||e.last_name as name, e.salary, d.department_name\n",
    "from employees as e\n",
    "inner join department as d\n",
    "using (department_id)\n",
    "where d.department_name = 'IT' and  e.salary > (select avg(salary) from employees)\n",
    "\"\"\",conn)\n",
    "df.head(60)\n",
    "\n",
    "##Revisar de leve"
   ]
  },
  {
   "cell_type": "markdown",
   "metadata": {},
   "source": [
    "+ Write a query to find the names (first_name, last_name), the salary of the employees who earn more than Mr. Bell. "
   ]
  },
  {
   "cell_type": "code",
   "execution_count": 98,
   "metadata": {},
   "outputs": [
    {
     "output_type": "execute_result",
     "data": {
      "text/plain": [
       "               name  salary\n",
       "0       Steven King   24000\n",
       "1     Neena Kochhar   17000\n",
       "2       Lex De Haan   17000\n",
       "3  Alexander Hunold    9000\n",
       "4       Bruce Ernst    6000"
      ],
      "text/html": "<div>\n<style scoped>\n    .dataframe tbody tr th:only-of-type {\n        vertical-align: middle;\n    }\n\n    .dataframe tbody tr th {\n        vertical-align: top;\n    }\n\n    .dataframe thead th {\n        text-align: right;\n    }\n</style>\n<table border=\"1\" class=\"dataframe\">\n  <thead>\n    <tr style=\"text-align: right;\">\n      <th></th>\n      <th>name</th>\n      <th>salary</th>\n    </tr>\n  </thead>\n  <tbody>\n    <tr>\n      <th>0</th>\n      <td>Steven King</td>\n      <td>24000</td>\n    </tr>\n    <tr>\n      <th>1</th>\n      <td>Neena Kochhar</td>\n      <td>17000</td>\n    </tr>\n    <tr>\n      <th>2</th>\n      <td>Lex De Haan</td>\n      <td>17000</td>\n    </tr>\n    <tr>\n      <th>3</th>\n      <td>Alexander Hunold</td>\n      <td>9000</td>\n    </tr>\n    <tr>\n      <th>4</th>\n      <td>Bruce Ernst</td>\n      <td>6000</td>\n    </tr>\n  </tbody>\n</table>\n</div>"
     },
     "metadata": {},
     "execution_count": 98
    }
   ],
   "source": [
    "df= pd.read_sql(\"\"\"\n",
    "select e.first_name||' '||e.last_name as name, e.salary\n",
    "from employees as e\n",
    "where e.salary > (select salary from employees where last_name = 'Bell')\n",
    "\"\"\",conn)\n",
    "df.head()\n",
    "#Analisar por que Bell é um mulher sendo que a questão passa o nome \"Mr.\"\n",
    "####Revisar"
   ]
  },
  {
   "cell_type": "markdown",
   "metadata": {},
   "source": [
    "+ Write a query to find the names (first_name, last_name), the salary of the employees who earn the same salary as the minimum salary for all departments. "
   ]
  },
  {
   "cell_type": "code",
   "execution_count": 100,
   "metadata": {},
   "outputs": [
    {
     "output_type": "execute_result",
     "data": {
      "text/plain": [
       "       name  salary\n",
       "0  TJ Olson    2100"
      ],
      "text/html": "<div>\n<style scoped>\n    .dataframe tbody tr th:only-of-type {\n        vertical-align: middle;\n    }\n\n    .dataframe tbody tr th {\n        vertical-align: top;\n    }\n\n    .dataframe thead th {\n        text-align: right;\n    }\n</style>\n<table border=\"1\" class=\"dataframe\">\n  <thead>\n    <tr style=\"text-align: right;\">\n      <th></th>\n      <th>name</th>\n      <th>salary</th>\n    </tr>\n  </thead>\n  <tbody>\n    <tr>\n      <th>0</th>\n      <td>TJ Olson</td>\n      <td>2100</td>\n    </tr>\n  </tbody>\n</table>\n</div>"
     },
     "metadata": {},
     "execution_count": 100
    }
   ],
   "source": [
    "df= pd.read_sql(\"\"\"\n",
    "select e.first_name||' '||e.last_name as name, e.salary\n",
    "from employees as e\n",
    "where e.salary = (select min(salary) from employees)\n",
    "\"\"\",conn)\n",
    "df.head()\n",
    "#Revisar interretação da questão"
   ]
  },
  {
   "cell_type": "markdown",
   "metadata": {},
   "source": [
    "+ Write a query to find the names (first_name, last_name) of the employees who are not supervisors. "
   ]
  },
  {
   "cell_type": "code",
   "execution_count": 132,
   "metadata": {},
   "outputs": [
    {
     "output_type": "execute_result",
     "data": {
      "text/plain": [
       "   region_id             region_name\n",
       "0  REGION_ID             REGION_NAME\n",
       "1          1                  Europe\n",
       "2          2                Americas\n",
       "3          3                    Asia\n",
       "4          4  Middle East and Africa"
      ],
      "text/html": "<div>\n<style scoped>\n    .dataframe tbody tr th:only-of-type {\n        vertical-align: middle;\n    }\n\n    .dataframe tbody tr th {\n        vertical-align: top;\n    }\n\n    .dataframe thead th {\n        text-align: right;\n    }\n</style>\n<table border=\"1\" class=\"dataframe\">\n  <thead>\n    <tr style=\"text-align: right;\">\n      <th></th>\n      <th>region_id</th>\n      <th>region_name</th>\n    </tr>\n  </thead>\n  <tbody>\n    <tr>\n      <th>0</th>\n      <td>REGION_ID</td>\n      <td>REGION_NAME</td>\n    </tr>\n    <tr>\n      <th>1</th>\n      <td>1</td>\n      <td>Europe</td>\n    </tr>\n    <tr>\n      <th>2</th>\n      <td>2</td>\n      <td>Americas</td>\n    </tr>\n    <tr>\n      <th>3</th>\n      <td>3</td>\n      <td>Asia</td>\n    </tr>\n    <tr>\n      <th>4</th>\n      <td>4</td>\n      <td>Middle East and Africa</td>\n    </tr>\n  </tbody>\n</table>\n</div>"
     },
     "metadata": {},
     "execution_count": 132
    }
   ],
   "source": [
    "df= pd.read_sql(\"\"\"\n",
    "select *\n",
    "from employees as e\n",
    "inner join departments\n",
    "using(manager_id)\n",
    "j.job_title = 'Supervisor'\n",
    "\"\"\",conn)\n",
    "\n",
    "df.head()\n",
    "\n",
    "\n",
    "##### Revisar o que são os supervisors"
   ]
  },
  {
   "cell_type": "markdown",
   "metadata": {},
   "source": [
    "+ Write a query to display the employee ID, first name, last names, salary of all employees whose salary is above average for their departments."
   ]
  },
  {
   "cell_type": "code",
   "execution_count": 148,
   "metadata": {},
   "outputs": [],
   "source": [
    "### Ainda não sei como fazer"
   ]
  },
  {
   "cell_type": "markdown",
   "metadata": {},
   "source": [
    "+ Write a query to find the 5th maximum salary in the employees table."
   ]
  },
  {
   "cell_type": "code",
   "execution_count": 160,
   "metadata": {},
   "outputs": [
    {
     "output_type": "execute_result",
     "data": {
      "text/plain": [
       "   salary\n",
       "0   13000"
      ],
      "text/html": "<div>\n<style scoped>\n    .dataframe tbody tr th:only-of-type {\n        vertical-align: middle;\n    }\n\n    .dataframe tbody tr th {\n        vertical-align: top;\n    }\n\n    .dataframe thead th {\n        text-align: right;\n    }\n</style>\n<table border=\"1\" class=\"dataframe\">\n  <thead>\n    <tr style=\"text-align: right;\">\n      <th></th>\n      <th>salary</th>\n    </tr>\n  </thead>\n  <tbody>\n    <tr>\n      <th>0</th>\n      <td>13000</td>\n    </tr>\n  </tbody>\n</table>\n</div>"
     },
     "metadata": {},
     "execution_count": 160
    }
   ],
   "source": [
    "df= pd.read_sql(\"\"\"\n",
    "select distinct salary\n",
    "from employees\n",
    "order by salary desc\n",
    "limit 1 OFFSET 4\n",
    "\"\"\",conn)\n",
    "#13000\n",
    "df.head()"
   ]
  },
  {
   "cell_type": "markdown",
   "metadata": {},
   "source": [
    "+ Write a query to find the 4th minimum salary in the employees table."
   ]
  },
  {
   "cell_type": "code",
   "execution_count": 167,
   "metadata": {},
   "outputs": [
    {
     "output_type": "execute_result",
     "data": {
      "text/plain": [
       "   salary\n",
       "0    2500"
      ],
      "text/html": "<div>\n<style scoped>\n    .dataframe tbody tr th:only-of-type {\n        vertical-align: middle;\n    }\n\n    .dataframe tbody tr th {\n        vertical-align: top;\n    }\n\n    .dataframe thead th {\n        text-align: right;\n    }\n</style>\n<table border=\"1\" class=\"dataframe\">\n  <thead>\n    <tr style=\"text-align: right;\">\n      <th></th>\n      <th>salary</th>\n    </tr>\n  </thead>\n  <tbody>\n    <tr>\n      <th>0</th>\n      <td>2500</td>\n    </tr>\n  </tbody>\n</table>\n</div>"
     },
     "metadata": {},
     "execution_count": 167
    }
   ],
   "source": [
    "df= pd.read_sql(\"\"\"\n",
    "select distinct salary\n",
    "from employees\n",
    "order by salary asc\n",
    "limit 1 OFFSET 3\n",
    "\"\"\",conn)\n",
    "#2500\n",
    "df.head()"
   ]
  },
  {
   "cell_type": "markdown",
   "metadata": {},
   "source": [
    "+ Write a query to select last 10 records from a table."
   ]
  },
  {
   "cell_type": "code",
   "execution_count": 170,
   "metadata": {},
   "outputs": [
    {
     "output_type": "execute_result",
     "data": {
      "text/plain": [
       "   employee_id first_name last_name     email  phone_number   hire_date  \\\n",
       "0          206    William     Gietz    WGIETZ  515.123.8181  1987-10-01   \n",
       "1          205    Shelley   Higgins  SHIGGINS  515.123.8080  1987-09-30   \n",
       "2          204    Hermann      Baer     HBAER  515.123.8888  1987-09-29   \n",
       "3          203      Susan    Mavris   SMAVRIS  515.123.7777  1987-09-28   \n",
       "4          202        Pat       Fay      PFAY  603.123.6666  1987-09-27   \n",
       "\n",
       "       job_id  salary  commission_pct  manager_id  department_id Avg_Salary  \n",
       "0  AC_ACCOUNT    8300               1         205            110       None  \n",
       "1      AC_MGR   12000               1         101            110       None  \n",
       "2      PR_REP   10000               0         101             70       None  \n",
       "3      HR_REP    6500               0         101             40       None  \n",
       "4      MK_REP    6000               0         201             20       None  "
      ],
      "text/html": "<div>\n<style scoped>\n    .dataframe tbody tr th:only-of-type {\n        vertical-align: middle;\n    }\n\n    .dataframe tbody tr th {\n        vertical-align: top;\n    }\n\n    .dataframe thead th {\n        text-align: right;\n    }\n</style>\n<table border=\"1\" class=\"dataframe\">\n  <thead>\n    <tr style=\"text-align: right;\">\n      <th></th>\n      <th>employee_id</th>\n      <th>first_name</th>\n      <th>last_name</th>\n      <th>email</th>\n      <th>phone_number</th>\n      <th>hire_date</th>\n      <th>job_id</th>\n      <th>salary</th>\n      <th>commission_pct</th>\n      <th>manager_id</th>\n      <th>department_id</th>\n      <th>Avg_Salary</th>\n    </tr>\n  </thead>\n  <tbody>\n    <tr>\n      <th>0</th>\n      <td>206</td>\n      <td>William</td>\n      <td>Gietz</td>\n      <td>WGIETZ</td>\n      <td>515.123.8181</td>\n      <td>1987-10-01</td>\n      <td>AC_ACCOUNT</td>\n      <td>8300</td>\n      <td>1</td>\n      <td>205</td>\n      <td>110</td>\n      <td>None</td>\n    </tr>\n    <tr>\n      <th>1</th>\n      <td>205</td>\n      <td>Shelley</td>\n      <td>Higgins</td>\n      <td>SHIGGINS</td>\n      <td>515.123.8080</td>\n      <td>1987-09-30</td>\n      <td>AC_MGR</td>\n      <td>12000</td>\n      <td>1</td>\n      <td>101</td>\n      <td>110</td>\n      <td>None</td>\n    </tr>\n    <tr>\n      <th>2</th>\n      <td>204</td>\n      <td>Hermann</td>\n      <td>Baer</td>\n      <td>HBAER</td>\n      <td>515.123.8888</td>\n      <td>1987-09-29</td>\n      <td>PR_REP</td>\n      <td>10000</td>\n      <td>0</td>\n      <td>101</td>\n      <td>70</td>\n      <td>None</td>\n    </tr>\n    <tr>\n      <th>3</th>\n      <td>203</td>\n      <td>Susan</td>\n      <td>Mavris</td>\n      <td>SMAVRIS</td>\n      <td>515.123.7777</td>\n      <td>1987-09-28</td>\n      <td>HR_REP</td>\n      <td>6500</td>\n      <td>0</td>\n      <td>101</td>\n      <td>40</td>\n      <td>None</td>\n    </tr>\n    <tr>\n      <th>4</th>\n      <td>202</td>\n      <td>Pat</td>\n      <td>Fay</td>\n      <td>PFAY</td>\n      <td>603.123.6666</td>\n      <td>1987-09-27</td>\n      <td>MK_REP</td>\n      <td>6000</td>\n      <td>0</td>\n      <td>201</td>\n      <td>20</td>\n      <td>None</td>\n    </tr>\n  </tbody>\n</table>\n</div>"
     },
     "metadata": {},
     "execution_count": 170
    }
   ],
   "source": [
    "df= pd.read_sql(\"\"\"\n",
    "select *\n",
    "from employees\n",
    "order by hire_date desc\n",
    "limit 10\n",
    "\"\"\",conn)\n",
    "df.head()\n",
    "#Dá uma revisada"
   ]
  },
  {
   "cell_type": "markdown",
   "metadata": {},
   "source": [
    "+ Write a query to list department number, name for all the departments in which there are no employees in the department."
   ]
  },
  {
   "cell_type": "code",
   "execution_count": 171,
   "metadata": {},
   "outputs": [
    {
     "output_type": "execute_result",
     "data": {
      "text/plain": [
       "  department_id  department_name manager_id location_id\n",
       "0            10   Administration        200        1700\n",
       "1            20        Marketing        201        1800\n",
       "2            30       Purchasing        114        1700\n",
       "3            40  Human Resources        203        2400\n",
       "4            50         Shipping        121        1500"
      ],
      "text/html": "<div>\n<style scoped>\n    .dataframe tbody tr th:only-of-type {\n        vertical-align: middle;\n    }\n\n    .dataframe tbody tr th {\n        vertical-align: top;\n    }\n\n    .dataframe thead th {\n        text-align: right;\n    }\n</style>\n<table border=\"1\" class=\"dataframe\">\n  <thead>\n    <tr style=\"text-align: right;\">\n      <th></th>\n      <th>department_id</th>\n      <th>department_name</th>\n      <th>manager_id</th>\n      <th>location_id</th>\n    </tr>\n  </thead>\n  <tbody>\n    <tr>\n      <th>0</th>\n      <td>10</td>\n      <td>Administration</td>\n      <td>200</td>\n      <td>1700</td>\n    </tr>\n    <tr>\n      <th>1</th>\n      <td>20</td>\n      <td>Marketing</td>\n      <td>201</td>\n      <td>1800</td>\n    </tr>\n    <tr>\n      <th>2</th>\n      <td>30</td>\n      <td>Purchasing</td>\n      <td>114</td>\n      <td>1700</td>\n    </tr>\n    <tr>\n      <th>3</th>\n      <td>40</td>\n      <td>Human Resources</td>\n      <td>203</td>\n      <td>2400</td>\n    </tr>\n    <tr>\n      <th>4</th>\n      <td>50</td>\n      <td>Shipping</td>\n      <td>121</td>\n      <td>1500</td>\n    </tr>\n  </tbody>\n</table>\n</div>"
     },
     "metadata": {},
     "execution_count": 171
    }
   ],
   "source": [
    "###Falta fazer mas não é difícil"
   ]
  },
  {
   "cell_type": "markdown",
   "metadata": {},
   "source": [
    "+ Write a query to find the addresses (location_id, street_address, city, state_province, country_name) of all the departments."
   ]
  },
  {
   "cell_type": "code",
   "execution_count": 184,
   "metadata": {},
   "outputs": [
    {
     "output_type": "execute_result",
     "data": {
      "text/plain": [
       "   location_id       street_address                 city state_province  \\\n",
       "0         1700      2004 Charade Rd              Seattle     Washington   \n",
       "1         1800      147 Spadina Ave              Toronto        Ontario   \n",
       "2         1700      2004 Charade Rd              Seattle     Washington   \n",
       "3         2400       8204 Arthur St               London                  \n",
       "4         1500  2011 Interiors Blvd  South San Francisco     California   \n",
       "\n",
       "               country_name  \n",
       "0  United States of America  \n",
       "1                    Canada  \n",
       "2  United States of America  \n",
       "3            United Kingdom  \n",
       "4  United States of America  "
      ],
      "text/html": "<div>\n<style scoped>\n    .dataframe tbody tr th:only-of-type {\n        vertical-align: middle;\n    }\n\n    .dataframe tbody tr th {\n        vertical-align: top;\n    }\n\n    .dataframe thead th {\n        text-align: right;\n    }\n</style>\n<table border=\"1\" class=\"dataframe\">\n  <thead>\n    <tr style=\"text-align: right;\">\n      <th></th>\n      <th>location_id</th>\n      <th>street_address</th>\n      <th>city</th>\n      <th>state_province</th>\n      <th>country_name</th>\n    </tr>\n  </thead>\n  <tbody>\n    <tr>\n      <th>0</th>\n      <td>1700</td>\n      <td>2004 Charade Rd</td>\n      <td>Seattle</td>\n      <td>Washington</td>\n      <td>United States of America</td>\n    </tr>\n    <tr>\n      <th>1</th>\n      <td>1800</td>\n      <td>147 Spadina Ave</td>\n      <td>Toronto</td>\n      <td>Ontario</td>\n      <td>Canada</td>\n    </tr>\n    <tr>\n      <th>2</th>\n      <td>1700</td>\n      <td>2004 Charade Rd</td>\n      <td>Seattle</td>\n      <td>Washington</td>\n      <td>United States of America</td>\n    </tr>\n    <tr>\n      <th>3</th>\n      <td>2400</td>\n      <td>8204 Arthur St</td>\n      <td>London</td>\n      <td></td>\n      <td>United Kingdom</td>\n    </tr>\n    <tr>\n      <th>4</th>\n      <td>1500</td>\n      <td>2011 Interiors Blvd</td>\n      <td>South San Francisco</td>\n      <td>California</td>\n      <td>United States of America</td>\n    </tr>\n  </tbody>\n</table>\n</div>"
     },
     "metadata": {},
     "execution_count": 184
    }
   ],
   "source": [
    "df= pd.read_sql(\"\"\"\n",
    "select l.location_id, l.street_address, l.city, l.state_province, c.country_name\n",
    "from department as d\n",
    "inner join locations as l, countries as c \n",
    "on l.location_id = d.location_id and c.country_id = l.country_id\n",
    "\"\"\",conn)\n",
    "df.head()"
   ]
  },
  {
   "cell_type": "markdown",
   "metadata": {},
   "source": [
    "+ Write a query to find the names (first_name, last name), department ID and the name of all the employees."
   ]
  },
  {
   "cell_type": "code",
   "execution_count": null,
   "metadata": {},
   "outputs": [],
   "source": [
    "### Não entendi a questão\n",
    "### é só fazer uma query sem retrições do employee?"
   ]
  },
  {
   "cell_type": "markdown",
   "metadata": {},
   "source": [
    "+ Write a query to find the employee id, name (last_name) along with their manager_id, manager name (last_name)."
   ]
  },
  {
   "cell_type": "code",
   "execution_count": null,
   "metadata": {},
   "outputs": [],
   "source": []
  },
  {
   "cell_type": "markdown",
   "metadata": {},
   "source": [
    "+ Write a query to find the names (first_name, last_name) and hire date of the employees who were hired after 'Jones'."
   ]
  },
  {
   "cell_type": "code",
   "execution_count": null,
   "metadata": {},
   "outputs": [],
   "source": []
  },
  {
   "cell_type": "markdown",
   "metadata": {},
   "source": [
    "+ Write a query to get the department name and number of employees in the department."
   ]
  },
  {
   "cell_type": "code",
   "execution_count": null,
   "metadata": {},
   "outputs": [],
   "source": []
  },
  {
   "cell_type": "markdown",
   "metadata": {},
   "source": [
    "+ Write a query to find the employee ID, job title number of days between ending date and starting date for all jobs in department 90 from job history."
   ]
  },
  {
   "cell_type": "code",
   "execution_count": null,
   "metadata": {},
   "outputs": [],
   "source": []
  },
  {
   "cell_type": "markdown",
   "metadata": {},
   "source": [
    "+ Write a query to display the department ID, department name, and manager first name."
   ]
  },
  {
   "cell_type": "code",
   "execution_count": null,
   "metadata": {},
   "outputs": [],
   "source": []
  },
  {
   "cell_type": "markdown",
   "metadata": {},
   "source": [
    "+ Write a query to display the department name, manager name, and city. "
   ]
  },
  {
   "cell_type": "code",
   "execution_count": null,
   "metadata": {},
   "outputs": [],
   "source": []
  },
  {
   "cell_type": "markdown",
   "metadata": {},
   "source": [
    "+ Write a query to display the job title and average salary of employees. "
   ]
  },
  {
   "cell_type": "code",
   "execution_count": null,
   "metadata": {},
   "outputs": [],
   "source": []
  },
  {
   "cell_type": "markdown",
   "metadata": {},
   "source": [
    "+ Write a query to to display job title, employee name, and the difference between the salary of the employee and minimum salary for the job."
   ]
  },
  {
   "cell_type": "code",
   "execution_count": null,
   "metadata": {},
   "outputs": [],
   "source": []
  },
  {
   "cell_type": "markdown",
   "metadata": {},
   "source": [
    "+ Write a query to display the job history that was done by any employee who is currently drawing more than 10000 of salary."
   ]
  },
  {
   "cell_type": "code",
   "execution_count": null,
   "metadata": {},
   "outputs": [],
   "source": []
  }
 ],
 "metadata": {
  "kernelspec": {
   "name": "Python 3.7.9 64-bit",
   "display_name": "Python 3.7.9 64-bit",
   "metadata": {
    "interpreter": {
     "hash": "13d8c936807e7e3d1a057b88a7c0a7e5ccf7c0ed5e2b15d29dccef87a282ad17"
    }
   }
  },
  "language_info": {
   "codemirror_mode": {
    "name": "ipython",
    "version": 3
   },
   "file_extension": ".py",
   "mimetype": "text/x-python",
   "name": "python",
   "nbconvert_exporter": "python",
   "pygments_lexer": "ipython3",
   "version": "3.7.9-final"
  }
 },
 "nbformat": 4,
 "nbformat_minor": 4
}